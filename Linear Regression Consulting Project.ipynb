{
 "cells": [
  {
   "cell_type": "code",
   "execution_count": 0,
   "metadata": {
    "application/vnd.databricks.v1+cell": {
     "inputWidgets": {},
     "nuid": "29228729-8e81-4074-bad5-f8e8214452ab",
     "showTitle": false,
     "title": ""
    }
   },
   "outputs": [
    {
     "data": {
      "text/html": [
       "<style scoped>\n",
       "  .ansiout {\n",
       "    display: block;\n",
       "    unicode-bidi: embed;\n",
       "    white-space: pre-wrap;\n",
       "    word-wrap: break-word;\n",
       "    word-break: break-all;\n",
       "    font-family: \"Source Code Pro\", \"Menlo\", monospace;;\n",
       "    font-size: 13px;\n",
       "    color: #555;\n",
       "    margin-left: 4px;\n",
       "    line-height: 19px;\n",
       "  }\n",
       "</style>"
      ]
     },
     "metadata": {
      "application/vnd.databricks.v1+output": {
       "arguments": {},
       "data": "",
       "errorSummary": "",
       "type": "ipynbError"
      }
     },
     "output_type": "display_data"
    }
   ],
   "source": [
    "#Congratulations! You've been contracted by Hyundai Heavy Industries to help them build a predictive model for some ships. Hyundai Heavy Industries is one of the world's largest ship manufacturing companies and builds cruise liners.\n",
    "\n",
    "#You've been flown to their headquarters in Ulsan, South Korea to help them give accurate estimates of how many crew members a ship will require.\n",
    "\n",
    "#They are currently building new ships for some customers and want you to create a model and use it to predict how many crew members the ships will need.\n",
    "\n"
   ]
  },
  {
   "cell_type": "markdown",
   "metadata": {},
   "source": [
    "# P:S: for a better view of this notebook please click on this link \n",
    "\n",
    "https://databricks-prod-cloudfront.cloud.databricks.com/public/4027ec902e239c93eaaa8714f173bcfc/6209651637822328/538998700402656/2290918915078516/latest.html"
   ]
  },
  {
   "cell_type": "code",
   "execution_count": 0,
   "metadata": {
    "application/vnd.databricks.v1+cell": {
     "inputWidgets": {},
     "nuid": "26a4dbc1-48b6-41fa-b068-4062cff94ef3",
     "showTitle": false,
     "title": ""
    }
   },
   "outputs": [
    {
     "data": {
      "text/html": [
       "<style scoped>\n",
       "  .ansiout {\n",
       "    display: block;\n",
       "    unicode-bidi: embed;\n",
       "    white-space: pre-wrap;\n",
       "    word-wrap: break-word;\n",
       "    word-break: break-all;\n",
       "    font-family: \"Source Code Pro\", \"Menlo\", monospace;;\n",
       "    font-size: 13px;\n",
       "    color: #555;\n",
       "    margin-left: 4px;\n",
       "    line-height: 19px;\n",
       "  }\n",
       "</style>\n",
       "<div class=\"ansiout\"></div>"
      ]
     },
     "metadata": {
      "application/vnd.databricks.v1+output": {
       "addedWidgets": {},
       "arguments": {},
       "data": "<div class=\"ansiout\"></div>",
       "datasetInfos": [],
       "removedWidgets": [],
       "type": "html"
      }
     },
     "output_type": "display_data"
    }
   ],
   "source": [
    "from pyspark.sql import SparkSession # Importing the sparksession\n",
    "spark = SparkSession.builder.appName('LINEAR').getOrCreate() # Intializng the spark session"
   ]
  },
  {
   "cell_type": "code",
   "execution_count": 0,
   "metadata": {
    "application/vnd.databricks.v1+cell": {
     "inputWidgets": {},
     "nuid": "7ae0c53e-f2b9-4d05-bea3-e40ac0ffbed4",
     "showTitle": false,
     "title": ""
    }
   },
   "outputs": [
    {
     "data": {
      "text/html": [
       "<style scoped>\n",
       "  .ansiout {\n",
       "    display: block;\n",
       "    unicode-bidi: embed;\n",
       "    white-space: pre-wrap;\n",
       "    word-wrap: break-word;\n",
       "    word-break: break-all;\n",
       "    font-family: \"Source Code Pro\", \"Menlo\", monospace;;\n",
       "    font-size: 13px;\n",
       "    color: #555;\n",
       "    margin-left: 4px;\n",
       "    line-height: 19px;\n",
       "  }\n",
       "</style>\n",
       "<div class=\"ansiout\"></div>"
      ]
     },
     "metadata": {
      "application/vnd.databricks.v1+output": {
       "addedWidgets": {},
       "arguments": {},
       "data": "<div class=\"ansiout\"></div>",
       "datasetInfos": [],
       "removedWidgets": [],
       "type": "html"
      }
     },
     "output_type": "display_data"
    }
   ],
   "source": [
    "df = spark.read.csv('dbfs:/FileStore/shared_uploads/shhivramcss@gmail.com/cruise_ship_info.csv', inferSchema=True, header=True) # Data Import"
   ]
  },
  {
   "cell_type": "code",
   "execution_count": 0,
   "metadata": {
    "application/vnd.databricks.v1+cell": {
     "inputWidgets": {},
     "nuid": "a50d951e-d828-49bf-8af7-45e061304ec3",
     "showTitle": false,
     "title": ""
    }
   },
   "outputs": [
    {
     "data": {
      "text/html": [
       "<style scoped>\n",
       "  .ansiout {\n",
       "    display: block;\n",
       "    unicode-bidi: embed;\n",
       "    white-space: pre-wrap;\n",
       "    word-wrap: break-word;\n",
       "    word-break: break-all;\n",
       "    font-family: \"Source Code Pro\", \"Menlo\", monospace;;\n",
       "    font-size: 13px;\n",
       "    color: #555;\n",
       "    margin-left: 4px;\n",
       "    line-height: 19px;\n",
       "  }\n",
       "</style>\n",
       "<div class=\"ansiout\">root\n",
       "-- Ship_name: string (nullable = true)\n",
       "-- Cruise_line: string (nullable = true)\n",
       "-- Age: integer (nullable = true)\n",
       "-- Tonnage: double (nullable = true)\n",
       "-- passengers: double (nullable = true)\n",
       "-- length: double (nullable = true)\n",
       "-- cabins: double (nullable = true)\n",
       "-- passenger_density: double (nullable = true)\n",
       "-- crew: double (nullable = true)\n",
       "\n",
       "</div>"
      ]
     },
     "metadata": {
      "application/vnd.databricks.v1+output": {
       "addedWidgets": {},
       "arguments": {},
       "data": "<div class=\"ansiout\">root\n |-- Ship_name: string (nullable = true)\n |-- Cruise_line: string (nullable = true)\n |-- Age: integer (nullable = true)\n |-- Tonnage: double (nullable = true)\n |-- passengers: double (nullable = true)\n |-- length: double (nullable = true)\n |-- cabins: double (nullable = true)\n |-- passenger_density: double (nullable = true)\n |-- crew: double (nullable = true)\n\n</div>",
       "datasetInfos": [],
       "removedWidgets": [],
       "type": "html"
      }
     },
     "output_type": "display_data"
    }
   ],
   "source": [
    "df.printSchema() # studying the dataset's dtypes"
   ]
  },
  {
   "cell_type": "code",
   "execution_count": 0,
   "metadata": {
    "application/vnd.databricks.v1+cell": {
     "inputWidgets": {},
     "nuid": "bc6d9200-23ec-4e38-a2a2-bf4c64a8ad69",
     "showTitle": false,
     "title": ""
    }
   },
   "outputs": [
    {
     "data": {
      "text/html": [
       "<style scoped>\n",
       "  .ansiout {\n",
       "    display: block;\n",
       "    unicode-bidi: embed;\n",
       "    white-space: pre-wrap;\n",
       "    word-wrap: break-word;\n",
       "    word-break: break-all;\n",
       "    font-family: \"Source Code Pro\", \"Menlo\", monospace;;\n",
       "    font-size: 13px;\n",
       "    color: #555;\n",
       "    margin-left: 4px;\n",
       "    line-height: 19px;\n",
       "  }\n",
       "</style>\n",
       "<div class=\"ansiout\">Out[4]: [&#39;Ship_name&#39;,\n",
       " &#39;Cruise_line&#39;,\n",
       " &#39;Age&#39;,\n",
       " &#39;Tonnage&#39;,\n",
       " &#39;passengers&#39;,\n",
       " &#39;length&#39;,\n",
       " &#39;cabins&#39;,\n",
       " &#39;passenger_density&#39;,\n",
       " &#39;crew&#39;]</div>"
      ]
     },
     "metadata": {
      "application/vnd.databricks.v1+output": {
       "addedWidgets": {},
       "arguments": {},
       "data": "<div class=\"ansiout\">Out[4]: [&#39;Ship_name&#39;,\n &#39;Cruise_line&#39;,\n &#39;Age&#39;,\n &#39;Tonnage&#39;,\n &#39;passengers&#39;,\n &#39;length&#39;,\n &#39;cabins&#39;,\n &#39;passenger_density&#39;,\n &#39;crew&#39;]</div>",
       "datasetInfos": [],
       "removedWidgets": [],
       "type": "html"
      }
     },
     "output_type": "display_data"
    }
   ],
   "source": [
    "df.columns # dataset columns "
   ]
  },
  {
   "cell_type": "code",
   "execution_count": 0,
   "metadata": {
    "application/vnd.databricks.v1+cell": {
     "inputWidgets": {},
     "nuid": "eb1baded-3ab6-453e-949d-b74252a1582e",
     "showTitle": false,
     "title": ""
    }
   },
   "outputs": [
    {
     "data": {
      "text/html": [
       "<style scoped>\n",
       "  .ansiout {\n",
       "    display: block;\n",
       "    unicode-bidi: embed;\n",
       "    white-space: pre-wrap;\n",
       "    word-wrap: break-word;\n",
       "    word-break: break-all;\n",
       "    font-family: \"Source Code Pro\", \"Menlo\", monospace;;\n",
       "    font-size: 13px;\n",
       "    color: #555;\n",
       "    margin-left: 4px;\n",
       "    line-height: 19px;\n",
       "  }\n",
       "</style>\n",
       "<div class=\"ansiout\">+-----------+-----------+---+------------------+----------+------+------+-----------------+----+\n",
       "  Ship_name|Cruise_line|Age|           Tonnage|passengers|length|cabins|passenger_density|crew|\n",
       "+-----------+-----------+---+------------------+----------+------+------+-----------------+----+\n",
       "    Journey|    Azamara|  6|30.276999999999997|      6.94|  5.94|  3.55|            42.64|3.55|\n",
       "      Quest|    Azamara|  6|30.276999999999997|      6.94|  5.94|  3.55|            42.64|3.55|\n",
       "Celebration|   Carnival| 26|            47.262|     14.86|  7.22|  7.43|             31.8| 6.7|\n",
       "   Conquest|   Carnival| 11|             110.0|     29.74|  9.53| 14.88|            36.99|19.1|\n",
       "    Destiny|   Carnival| 17|           101.353|     26.42|  8.92| 13.21|            38.36|10.0|\n",
       "+-----------+-----------+---+------------------+----------+------+------+-----------------+----+\n",
       "only showing top 5 rows\n",
       "\n",
       "</div>"
      ]
     },
     "metadata": {
      "application/vnd.databricks.v1+output": {
       "addedWidgets": {},
       "arguments": {},
       "data": "<div class=\"ansiout\">+-----------+-----------+---+------------------+----------+------+------+-----------------+----+\n|  Ship_name|Cruise_line|Age|           Tonnage|passengers|length|cabins|passenger_density|crew|\n+-----------+-----------+---+------------------+----------+------+------+-----------------+----+\n|    Journey|    Azamara|  6|30.276999999999997|      6.94|  5.94|  3.55|            42.64|3.55|\n|      Quest|    Azamara|  6|30.276999999999997|      6.94|  5.94|  3.55|            42.64|3.55|\n|Celebration|   Carnival| 26|            47.262|     14.86|  7.22|  7.43|             31.8| 6.7|\n|   Conquest|   Carnival| 11|             110.0|     29.74|  9.53| 14.88|            36.99|19.1|\n|    Destiny|   Carnival| 17|           101.353|     26.42|  8.92| 13.21|            38.36|10.0|\n+-----------+-----------+---+------------------+----------+------+------+-----------------+----+\nonly showing top 5 rows\n\n</div>",
       "datasetInfos": [],
       "removedWidgets": [],
       "type": "html"
      }
     },
     "output_type": "display_data"
    }
   ],
   "source": [
    "df.show(5) # head of the dataset"
   ]
  },
  {
   "cell_type": "code",
   "execution_count": 0,
   "metadata": {
    "application/vnd.databricks.v1+cell": {
     "inputWidgets": {},
     "nuid": "b7ee11c9-8fc7-4f8e-a786-a4bd4a85a7fa",
     "showTitle": false,
     "title": ""
    }
   },
   "outputs": [
    {
     "data": {
      "text/html": [
       "<style scoped>\n",
       "  .ansiout {\n",
       "    display: block;\n",
       "    unicode-bidi: embed;\n",
       "    white-space: pre-wrap;\n",
       "    word-wrap: break-word;\n",
       "    word-break: break-all;\n",
       "    font-family: \"Source Code Pro\", \"Menlo\", monospace;;\n",
       "    font-size: 13px;\n",
       "    color: #555;\n",
       "    margin-left: 4px;\n",
       "    line-height: 19px;\n",
       "  }\n",
       "</style>\n",
       "<div class=\"ansiout\">+-------+---------+-----------+------------------+------------------+-----------------+-----------------+------------------+-----------------+-----------------+\n",
       "summary|Ship_name|Cruise_line|               Age|           Tonnage|       passengers|           length|            cabins|passenger_density|             crew|\n",
       "+-------+---------+-----------+------------------+------------------+-----------------+-----------------+------------------+-----------------+-----------------+\n",
       "  count|      158|        158|               158|               158|              158|              158|               158|              158|              158|\n",
       "   mean| Infinity|       null|15.689873417721518| 71.28467088607599|18.45740506329114|8.130632911392404| 8.830000000000005|39.90094936708861|7.794177215189873|\n",
       " stddev|      NaN|       null| 7.615691058751413|37.229540025907866|9.677094775143416|1.793473548054825|4.4714172221480615| 8.63921711391542|3.503486564627034|\n",
       "    min|Adventure|    Azamara|                 4|             2.329|             0.66|             2.79|              0.33|             17.7|             0.59|\n",
       "    max|Zuiderdam|   Windstar|                48|             220.0|             54.0|            11.82|              27.0|            71.43|             21.0|\n",
       "+-------+---------+-----------+------------------+------------------+-----------------+-----------------+------------------+-----------------+-----------------+\n",
       "\n",
       "</div>"
      ]
     },
     "metadata": {
      "application/vnd.databricks.v1+output": {
       "addedWidgets": {},
       "arguments": {},
       "data": "<div class=\"ansiout\">+-------+---------+-----------+------------------+------------------+-----------------+-----------------+------------------+-----------------+-----------------+\n|summary|Ship_name|Cruise_line|               Age|           Tonnage|       passengers|           length|            cabins|passenger_density|             crew|\n+-------+---------+-----------+------------------+------------------+-----------------+-----------------+------------------+-----------------+-----------------+\n|  count|      158|        158|               158|               158|              158|              158|               158|              158|              158|\n|   mean| Infinity|       null|15.689873417721518| 71.28467088607599|18.45740506329114|8.130632911392404| 8.830000000000005|39.90094936708861|7.794177215189873|\n| stddev|      NaN|       null| 7.615691058751413|37.229540025907866|9.677094775143416|1.793473548054825|4.4714172221480615| 8.63921711391542|3.503486564627034|\n|    min|Adventure|    Azamara|                 4|             2.329|             0.66|             2.79|              0.33|             17.7|             0.59|\n|    max|Zuiderdam|   Windstar|                48|             220.0|             54.0|            11.82|              27.0|            71.43|             21.0|\n+-------+---------+-----------+------------------+------------------+-----------------+-----------------+------------------+-----------------+-----------------+\n\n</div>",
       "datasetInfos": [],
       "removedWidgets": [],
       "type": "html"
      }
     },
     "output_type": "display_data"
    }
   ],
   "source": [
    "df.describe().show() # Descriptive statistics of the dataste"
   ]
  },
  {
   "cell_type": "code",
   "execution_count": 0,
   "metadata": {
    "application/vnd.databricks.v1+cell": {
     "inputWidgets": {},
     "nuid": "f62cab18-d056-4c3c-aea6-554a657f2eb4",
     "showTitle": false,
     "title": ""
    }
   },
   "outputs": [
    {
     "data": {
      "text/html": [
       "<style scoped>\n",
       "  .ansiout {\n",
       "    display: block;\n",
       "    unicode-bidi: embed;\n",
       "    white-space: pre-wrap;\n",
       "    word-wrap: break-word;\n",
       "    word-break: break-all;\n",
       "    font-family: \"Source Code Pro\", \"Menlo\", monospace;;\n",
       "    font-size: 13px;\n",
       "    color: #555;\n",
       "    margin-left: 4px;\n",
       "    line-height: 19px;\n",
       "  }\n",
       "</style>\n",
       "<div class=\"ansiout\">====================================================================================================\n",
       "Histogram of  Age\n",
       "</div>"
      ]
     },
     "metadata": {
      "application/vnd.databricks.v1+output": {
       "addedWidgets": {},
       "arguments": {},
       "data": "<div class=\"ansiout\">====================================================================================================\nHistogram of  Age\n</div>",
       "datasetInfos": [],
       "removedWidgets": [],
       "type": "html"
      }
     },
     "output_type": "display_data"
    },
    {
     "data": {
      "text/html": [
       "<style scoped>\n",
       "  .table-result-container {\n",
       "    max-height: 300px;\n",
       "    overflow: auto;\n",
       "  }\n",
       "  table, th, td {\n",
       "    border: 1px solid black;\n",
       "    border-collapse: collapse;\n",
       "  }\n",
       "  th, td {\n",
       "    padding: 5px;\n",
       "  }\n",
       "  th {\n",
       "    text-align: left;\n",
       "  }\n",
       "</style><div class='table-result-container'><table class='table-result'><thead style='background-color: white'><tr><th>Age</th></tr></thead><tbody><tr><td>6</td></tr><tr><td>6</td></tr><tr><td>26</td></tr><tr><td>11</td></tr><tr><td>17</td></tr><tr><td>22</td></tr><tr><td>15</td></tr><tr><td>23</td></tr><tr><td>19</td></tr><tr><td>6</td></tr><tr><td>10</td></tr><tr><td>28</td></tr><tr><td>18</td></tr><tr><td>17</td></tr><tr><td>11</td></tr><tr><td>8</td></tr><tr><td>9</td></tr><tr><td>15</td></tr><tr><td>12</td></tr><tr><td>20</td></tr><tr><td>12</td></tr><tr><td>14</td></tr><tr><td>9</td></tr><tr><td>13</td></tr><tr><td>18</td></tr><tr><td>11</td></tr><tr><td>17</td></tr><tr><td>12</td></tr><tr><td>16</td></tr><tr><td>13</td></tr><tr><td>5</td></tr><tr><td>12</td></tr><tr><td>12</td></tr><tr><td>21</td></tr><tr><td>21</td></tr><tr><td>13</td></tr><tr><td>22</td></tr><tr><td>27</td></tr><tr><td>10</td></tr><tr><td>9</td></tr><tr><td>23</td></tr><tr><td>10</td></tr><tr><td>20</td></tr><tr><td>6</td></tr><tr><td>17</td></tr><tr><td>10</td></tr><tr><td>18</td></tr><tr><td>44</td></tr><tr><td>10</td></tr><tr><td>6</td></tr><tr><td>15</td></tr><tr><td>14</td></tr><tr><td>13</td></tr><tr><td>5</td></tr><tr><td>20</td></tr><tr><td>29</td></tr><tr><td>10</td></tr><tr><td>25</td></tr><tr><td>16</td></tr><tr><td>19</td></tr><tr><td>20</td></tr><tr><td>17</td></tr><tr><td>14</td></tr><tr><td>27</td></tr><tr><td>13</td></tr><tr><td>11</td></tr><tr><td>12</td></tr><tr><td>5</td></tr><tr><td>10</td></tr><tr><td>31</td></tr><tr><td>7</td></tr><tr><td>9</td></tr><tr><td>36</td></tr><tr><td>11</td></tr><tr><td>25</td></tr><tr><td>11</td></tr><tr><td>21</td></tr><tr><td>6</td></tr><tr><td>8</td></tr><tr><td>21</td></tr><tr><td>14</td></tr><tr><td>9</td></tr><tr><td>25</td></tr><tr><td>15</td></tr><tr><td>40</td></tr><tr><td>12</td></tr><tr><td>20</td></tr><tr><td>15</td></tr><tr><td>13</td></tr><tr><td>15</td></tr><tr><td>48</td></tr><tr><td>9</td></tr><tr><td>29</td></tr><tr><td>13</td></tr><tr><td>10</td></tr><tr><td>18</td></tr><tr><td>5</td></tr><tr><td>9</td></tr><tr><td>11</td></tr><tr><td>7</td></tr><tr><td>16</td></tr><tr><td>9</td></tr><tr><td>6</td></tr><tr><td>12</td></tr><tr><td>15</td></tr><tr><td>10</td></tr><tr><td>14</td></tr><tr><td>22</td></tr><tr><td>29</td></tr><tr><td>9</td></tr><tr><td>8</td></tr><tr><td>11</td></tr><tr><td>18</td></tr><tr><td>14</td></tr><tr><td>27</td></tr><tr><td>12</td></tr><tr><td>14</td></tr><tr><td>16</td></tr><tr><td>10</td></tr><tr><td>12</td></tr><tr><td>11</td></tr><tr><td>23</td></tr><tr><td>16</td></tr><tr><td>13</td></tr><tr><td>7</td></tr><tr><td>17</td></tr><tr><td>5</td></tr><tr><td>9</td></tr><tr><td>18</td></tr><tr><td>6</td></tr><tr><td>21</td></tr><tr><td>10</td></tr><tr><td>22</td></tr><tr><td>11</td></tr><tr><td>4</td></tr><tr><td>12</td></tr><tr><td>16</td></tr><tr><td>10</td></tr><tr><td>25</td></tr><tr><td>17</td></tr><tr><td>15</td></tr><tr><td>14</td></tr><tr><td>21</td></tr><tr><td>27</td></tr><tr><td>24</td></tr><tr><td>19</td></tr><tr><td>13</td></tr><tr><td>12</td></tr><tr><td>19</td></tr><tr><td>22</td></tr><tr><td>21</td></tr><tr><td>12</td></tr><tr><td>24</td></tr><tr><td>22</td></tr><tr><td>14</td></tr><tr><td>25</td></tr><tr><td>27</td></tr><tr><td>23</td></tr></tbody></table></div>"
      ]
     },
     "metadata": {
      "application/vnd.databricks.v1+output": {
       "addedWidgets": {},
       "aggData": [],
       "aggError": "",
       "aggOverflow": false,
       "aggSchema": [],
       "aggSeriesLimitReached": false,
       "aggType": "",
       "arguments": {},
       "columnCustomDisplayInfos": {},
       "data": [
        [
         6
        ],
        [
         6
        ],
        [
         26
        ],
        [
         11
        ],
        [
         17
        ],
        [
         22
        ],
        [
         15
        ],
        [
         23
        ],
        [
         19
        ],
        [
         6
        ],
        [
         10
        ],
        [
         28
        ],
        [
         18
        ],
        [
         17
        ],
        [
         11
        ],
        [
         8
        ],
        [
         9
        ],
        [
         15
        ],
        [
         12
        ],
        [
         20
        ],
        [
         12
        ],
        [
         14
        ],
        [
         9
        ],
        [
         13
        ],
        [
         18
        ],
        [
         11
        ],
        [
         17
        ],
        [
         12
        ],
        [
         16
        ],
        [
         13
        ],
        [
         5
        ],
        [
         12
        ],
        [
         12
        ],
        [
         21
        ],
        [
         21
        ],
        [
         13
        ],
        [
         22
        ],
        [
         27
        ],
        [
         10
        ],
        [
         9
        ],
        [
         23
        ],
        [
         10
        ],
        [
         20
        ],
        [
         6
        ],
        [
         17
        ],
        [
         10
        ],
        [
         18
        ],
        [
         44
        ],
        [
         10
        ],
        [
         6
        ],
        [
         15
        ],
        [
         14
        ],
        [
         13
        ],
        [
         5
        ],
        [
         20
        ],
        [
         29
        ],
        [
         10
        ],
        [
         25
        ],
        [
         16
        ],
        [
         19
        ],
        [
         20
        ],
        [
         17
        ],
        [
         14
        ],
        [
         27
        ],
        [
         13
        ],
        [
         11
        ],
        [
         12
        ],
        [
         5
        ],
        [
         10
        ],
        [
         31
        ],
        [
         7
        ],
        [
         9
        ],
        [
         36
        ],
        [
         11
        ],
        [
         25
        ],
        [
         11
        ],
        [
         21
        ],
        [
         6
        ],
        [
         8
        ],
        [
         21
        ],
        [
         14
        ],
        [
         9
        ],
        [
         25
        ],
        [
         15
        ],
        [
         40
        ],
        [
         12
        ],
        [
         20
        ],
        [
         15
        ],
        [
         13
        ],
        [
         15
        ],
        [
         48
        ],
        [
         9
        ],
        [
         29
        ],
        [
         13
        ],
        [
         10
        ],
        [
         18
        ],
        [
         5
        ],
        [
         9
        ],
        [
         11
        ],
        [
         7
        ],
        [
         16
        ],
        [
         9
        ],
        [
         6
        ],
        [
         12
        ],
        [
         15
        ],
        [
         10
        ],
        [
         14
        ],
        [
         22
        ],
        [
         29
        ],
        [
         9
        ],
        [
         8
        ],
        [
         11
        ],
        [
         18
        ],
        [
         14
        ],
        [
         27
        ],
        [
         12
        ],
        [
         14
        ],
        [
         16
        ],
        [
         10
        ],
        [
         12
        ],
        [
         11
        ],
        [
         23
        ],
        [
         16
        ],
        [
         13
        ],
        [
         7
        ],
        [
         17
        ],
        [
         5
        ],
        [
         9
        ],
        [
         18
        ],
        [
         6
        ],
        [
         21
        ],
        [
         10
        ],
        [
         22
        ],
        [
         11
        ],
        [
         4
        ],
        [
         12
        ],
        [
         16
        ],
        [
         10
        ],
        [
         25
        ],
        [
         17
        ],
        [
         15
        ],
        [
         14
        ],
        [
         21
        ],
        [
         27
        ],
        [
         24
        ],
        [
         19
        ],
        [
         13
        ],
        [
         12
        ],
        [
         19
        ],
        [
         22
        ],
        [
         21
        ],
        [
         12
        ],
        [
         24
        ],
        [
         22
        ],
        [
         14
        ],
        [
         25
        ],
        [
         27
        ],
        [
         23
        ]
       ],
       "datasetInfos": [],
       "dbfsResultPath": null,
       "isJsonSchema": true,
       "overflow": false,
       "plotOptions": {
        "customPlotOptions": {},
        "displayType": "histogram",
        "pivotAggregation": null,
        "pivotColumns": null,
        "xColumns": null,
        "yColumns": null
       },
       "removedWidgets": [],
       "schema": [
        {
         "metadata": "{}",
         "name": "Age",
         "type": "\"integer\""
        }
       ],
       "type": "table"
      }
     },
     "output_type": "display_data"
    },
    {
     "data": {
      "text/html": [
       "<style scoped>\n",
       "  .ansiout {\n",
       "    display: block;\n",
       "    unicode-bidi: embed;\n",
       "    white-space: pre-wrap;\n",
       "    word-wrap: break-word;\n",
       "    word-break: break-all;\n",
       "    font-family: \"Source Code Pro\", \"Menlo\", monospace;;\n",
       "    font-size: 13px;\n",
       "    color: #555;\n",
       "    margin-left: 4px;\n",
       "    line-height: 19px;\n",
       "  }\n",
       "</style>\n",
       "<div class=\"ansiout\">\n",
       "\n",
       "Descriptive Statistics of  Age\n",
       "{&#39;count&#39;: &#39;158&#39;, &#39;mean&#39;: &#39;15.689873417721518&#39;, &#39;stddev&#39;: &#39;7.615691058751413&#39;, &#39;min&#39;: &#39;4&#39;, &#39;max&#39;: &#39;48&#39;}\n",
       "====================================================================================================\n",
       "====================================================================================================\n",
       "Histogram of  Tonnage\n",
       "</div>"
      ]
     },
     "metadata": {
      "application/vnd.databricks.v1+output": {
       "addedWidgets": {},
       "arguments": {},
       "data": "<div class=\"ansiout\">\n\nDescriptive Statistics of  Age\n{&#39;count&#39;: &#39;158&#39;, &#39;mean&#39;: &#39;15.689873417721518&#39;, &#39;stddev&#39;: &#39;7.615691058751413&#39;, &#39;min&#39;: &#39;4&#39;, &#39;max&#39;: &#39;48&#39;}\n====================================================================================================\n====================================================================================================\nHistogram of  Tonnage\n</div>",
       "datasetInfos": [],
       "removedWidgets": [],
       "type": "html"
      }
     },
     "output_type": "display_data"
    },
    {
     "data": {
      "text/html": [
       "<style scoped>\n",
       "  .table-result-container {\n",
       "    max-height: 300px;\n",
       "    overflow: auto;\n",
       "  }\n",
       "  table, th, td {\n",
       "    border: 1px solid black;\n",
       "    border-collapse: collapse;\n",
       "  }\n",
       "  th, td {\n",
       "    padding: 5px;\n",
       "  }\n",
       "  th {\n",
       "    text-align: left;\n",
       "  }\n",
       "</style><div class='table-result-container'><table class='table-result'><thead style='background-color: white'><tr><th>Tonnage</th></tr></thead><tbody><tr><td>30.276999999999997</td></tr><tr><td>30.276999999999997</td></tr><tr><td>47.262</td></tr><tr><td>110.0</td></tr><tr><td>101.353</td></tr><tr><td>70.367</td></tr><tr><td>70.367</td></tr><tr><td>70.367</td></tr><tr><td>70.367</td></tr><tr><td>110.23899999999999</td></tr><tr><td>110.0</td></tr><tr><td>46.052</td></tr><tr><td>70.367</td></tr><tr><td>70.367</td></tr><tr><td>86.0</td></tr><tr><td>110.0</td></tr><tr><td>88.5</td></tr><tr><td>70.367</td></tr><tr><td>88.5</td></tr><tr><td>70.367</td></tr><tr><td>88.5</td></tr><tr><td>101.509</td></tr><tr><td>110.0</td></tr><tr><td>101.509</td></tr><tr><td>70.60600000000001</td></tr><tr><td>91.0</td></tr><tr><td>77.71300000000001</td></tr><tr><td>91.0</td></tr><tr><td>77.71300000000001</td></tr><tr><td>91.0</td></tr><tr><td>122.0</td></tr><tr><td>91.0</td></tr><tr><td>2.329</td></tr><tr><td>47.225</td></tr><tr><td>28.43</td></tr><tr><td>85.619</td></tr><tr><td>52.926</td></tr><tr><td>53.872</td></tr><tr><td>105.0</td></tr><tr><td>105.0</td></tr><tr><td>25.0</td></tr><tr><td>86.0</td></tr><tr><td>53.049</td></tr><tr><td>112.0</td></tr><tr><td>75.166</td></tr><tr><td>68.0</td></tr><tr><td>51.004</td></tr><tr><td>70.327</td></tr><tr><td>151.4</td></tr><tr><td>90.0</td></tr><tr><td>83.338</td></tr><tr><td>83.0</td></tr><tr><td>61.0</td></tr><tr><td>86.0</td></tr><tr><td>55.451</td></tr><tr><td>33.92</td></tr><tr><td>81.76899999999999</td></tr><tr><td>38.0</td></tr><tr><td>59.652</td></tr><tr><td>55.451</td></tr><tr><td>55.451</td></tr><tr><td>55.451</td></tr><tr><td>63.0</td></tr><tr><td>53.872</td></tr><tr><td>63.0</td></tr><tr><td>85.0</td></tr><tr><td>58.6</td></tr><tr><td>133.5</td></tr><tr><td>58.825</td></tr><tr><td>35.143</td></tr><tr><td>89.6</td></tr><tr><td>59.058</td></tr><tr><td>16.852</td></tr><tr><td>58.6</td></tr><tr><td>34.25</td></tr><tr><td>90.0</td></tr><tr><td>50.76</td></tr><tr><td>93.0</td></tr><tr><td>91.0</td></tr><tr><td>38.0</td></tr><tr><td>77.104</td></tr><tr><td>81.0</td></tr><tr><td>42.0</td></tr><tr><td>75.33800000000001</td></tr><tr><td>28.0</td></tr><tr><td>77.104</td></tr><tr><td>50.76</td></tr><tr><td>30.276999999999997</td></tr><tr><td>30.276999999999997</td></tr><tr><td>30.276999999999997</td></tr><tr><td>22.08</td></tr><tr><td>85.0</td></tr><tr><td>45.0</td></tr><tr><td>76.0</td></tr><tr><td>77.0</td></tr><tr><td>69.153</td></tr><tr><td>115.0</td></tr><tr><td>116.0</td></tr><tr><td>91.62700000000001</td></tr><tr><td>116.0</td></tr><tr><td>77.499</td></tr><tr><td>113.0</td></tr><tr><td>113.0</td></tr><tr><td>108.865</td></tr><tr><td>108.806</td></tr><tr><td>91.62700000000001</td></tr><tr><td>30.276999999999997</td></tr><tr><td>69.845</td></tr><tr><td>44.348</td></tr><tr><td>113.0</td></tr><tr><td>77.499</td></tr><tr><td>108.977</td></tr><tr><td>77.499</td></tr><tr><td>30.276999999999997</td></tr><tr><td>12.5</td></tr><tr><td>50.0</td></tr><tr><td>33.0</td></tr><tr><td>19.2</td></tr><tr><td>46.0</td></tr><tr><td>138.0</td></tr><tr><td>90.09</td></tr><tr><td>48.563</td></tr><tr><td>74.137</td></tr><tr><td>138.0</td></tr><tr><td>158.0</td></tr><tr><td>74.137</td></tr><tr><td>160.0</td></tr><tr><td>90.09</td></tr><tr><td>70.0</td></tr><tr><td>158.0</td></tr><tr><td>73.941</td></tr><tr><td>138.0</td></tr><tr><td>73.941</td></tr><tr><td>138.0</td></tr><tr><td>220.0</td></tr><tr><td>90.09</td></tr><tr><td>78.491</td></tr><tr><td>90.09</td></tr><tr><td>73.192</td></tr><tr><td>70.0</td></tr><tr><td>78.491</td></tr><tr><td>138.0</td></tr><tr><td>10.0</td></tr><tr><td>10.0</td></tr><tr><td>10.0</td></tr><tr><td>16.8</td></tr><tr><td>25.0</td></tr><tr><td>25.0</td></tr><tr><td>16.8</td></tr><tr><td>3.341</td></tr><tr><td>19.093</td></tr><tr><td>42.0</td></tr><tr><td>40.053000000000004</td></tr><tr><td>3.341</td></tr><tr><td>76.8</td></tr><tr><td>5.35</td></tr><tr><td>5.35</td></tr><tr><td>14.745</td></tr></tbody></table></div>"
      ]
     },
     "metadata": {
      "application/vnd.databricks.v1+output": {
       "addedWidgets": {},
       "aggData": [],
       "aggError": "",
       "aggOverflow": false,
       "aggSchema": [],
       "aggSeriesLimitReached": false,
       "aggType": "",
       "arguments": {},
       "columnCustomDisplayInfos": {},
       "data": [
        [
         30.276999999999997
        ],
        [
         30.276999999999997
        ],
        [
         47.262
        ],
        [
         110
        ],
        [
         101.353
        ],
        [
         70.367
        ],
        [
         70.367
        ],
        [
         70.367
        ],
        [
         70.367
        ],
        [
         110.23899999999999
        ],
        [
         110
        ],
        [
         46.052
        ],
        [
         70.367
        ],
        [
         70.367
        ],
        [
         86
        ],
        [
         110
        ],
        [
         88.5
        ],
        [
         70.367
        ],
        [
         88.5
        ],
        [
         70.367
        ],
        [
         88.5
        ],
        [
         101.509
        ],
        [
         110
        ],
        [
         101.509
        ],
        [
         70.60600000000001
        ],
        [
         91
        ],
        [
         77.71300000000001
        ],
        [
         91
        ],
        [
         77.71300000000001
        ],
        [
         91
        ],
        [
         122
        ],
        [
         91
        ],
        [
         2.329
        ],
        [
         47.225
        ],
        [
         28.43
        ],
        [
         85.619
        ],
        [
         52.926
        ],
        [
         53.872
        ],
        [
         105
        ],
        [
         105
        ],
        [
         25
        ],
        [
         86
        ],
        [
         53.049
        ],
        [
         112
        ],
        [
         75.166
        ],
        [
         68
        ],
        [
         51.004
        ],
        [
         70.327
        ],
        [
         151.4
        ],
        [
         90
        ],
        [
         83.338
        ],
        [
         83
        ],
        [
         61
        ],
        [
         86
        ],
        [
         55.451
        ],
        [
         33.92
        ],
        [
         81.76899999999999
        ],
        [
         38
        ],
        [
         59.652
        ],
        [
         55.451
        ],
        [
         55.451
        ],
        [
         55.451
        ],
        [
         63
        ],
        [
         53.872
        ],
        [
         63
        ],
        [
         85
        ],
        [
         58.6
        ],
        [
         133.5
        ],
        [
         58.825
        ],
        [
         35.143
        ],
        [
         89.6
        ],
        [
         59.058
        ],
        [
         16.852
        ],
        [
         58.6
        ],
        [
         34.25
        ],
        [
         90
        ],
        [
         50.76
        ],
        [
         93
        ],
        [
         91
        ],
        [
         38
        ],
        [
         77.104
        ],
        [
         81
        ],
        [
         42
        ],
        [
         75.33800000000001
        ],
        [
         28
        ],
        [
         77.104
        ],
        [
         50.76
        ],
        [
         30.276999999999997
        ],
        [
         30.276999999999997
        ],
        [
         30.276999999999997
        ],
        [
         22.08
        ],
        [
         85
        ],
        [
         45
        ],
        [
         76
        ],
        [
         77
        ],
        [
         69.153
        ],
        [
         115
        ],
        [
         116
        ],
        [
         91.62700000000001
        ],
        [
         116
        ],
        [
         77.499
        ],
        [
         113
        ],
        [
         113
        ],
        [
         108.865
        ],
        [
         108.806
        ],
        [
         91.62700000000001
        ],
        [
         30.276999999999997
        ],
        [
         69.845
        ],
        [
         44.348
        ],
        [
         113
        ],
        [
         77.499
        ],
        [
         108.977
        ],
        [
         77.499
        ],
        [
         30.276999999999997
        ],
        [
         12.5
        ],
        [
         50
        ],
        [
         33
        ],
        [
         19.2
        ],
        [
         46
        ],
        [
         138
        ],
        [
         90.09
        ],
        [
         48.563
        ],
        [
         74.137
        ],
        [
         138
        ],
        [
         158
        ],
        [
         74.137
        ],
        [
         160
        ],
        [
         90.09
        ],
        [
         70
        ],
        [
         158
        ],
        [
         73.941
        ],
        [
         138
        ],
        [
         73.941
        ],
        [
         138
        ],
        [
         220
        ],
        [
         90.09
        ],
        [
         78.491
        ],
        [
         90.09
        ],
        [
         73.192
        ],
        [
         70
        ],
        [
         78.491
        ],
        [
         138
        ],
        [
         10
        ],
        [
         10
        ],
        [
         10
        ],
        [
         16.8
        ],
        [
         25
        ],
        [
         25
        ],
        [
         16.8
        ],
        [
         3.341
        ],
        [
         19.093
        ],
        [
         42
        ],
        [
         40.053000000000004
        ],
        [
         3.341
        ],
        [
         76.8
        ],
        [
         5.35
        ],
        [
         5.35
        ],
        [
         14.745
        ]
       ],
       "datasetInfos": [],
       "dbfsResultPath": null,
       "isJsonSchema": true,
       "overflow": false,
       "plotOptions": {
        "customPlotOptions": {},
        "displayType": "histogram",
        "pivotAggregation": null,
        "pivotColumns": null,
        "xColumns": null,
        "yColumns": null
       },
       "removedWidgets": [],
       "schema": [
        {
         "metadata": "{}",
         "name": "Tonnage",
         "type": "\"double\""
        }
       ],
       "type": "table"
      }
     },
     "output_type": "display_data"
    },
    {
     "data": {
      "text/html": [
       "<style scoped>\n",
       "  .ansiout {\n",
       "    display: block;\n",
       "    unicode-bidi: embed;\n",
       "    white-space: pre-wrap;\n",
       "    word-wrap: break-word;\n",
       "    word-break: break-all;\n",
       "    font-family: \"Source Code Pro\", \"Menlo\", monospace;;\n",
       "    font-size: 13px;\n",
       "    color: #555;\n",
       "    margin-left: 4px;\n",
       "    line-height: 19px;\n",
       "  }\n",
       "</style>\n",
       "<div class=\"ansiout\">\n",
       "\n",
       "Descriptive Statistics of  Tonnage\n",
       "{&#39;count&#39;: &#39;158&#39;, &#39;mean&#39;: &#39;71.28467088607599&#39;, &#39;stddev&#39;: &#39;37.229540025907866&#39;, &#39;min&#39;: &#39;2.329&#39;, &#39;max&#39;: &#39;220.0&#39;}\n",
       "====================================================================================================\n",
       "====================================================================================================\n",
       "Histogram of  passengers\n",
       "</div>"
      ]
     },
     "metadata": {
      "application/vnd.databricks.v1+output": {
       "addedWidgets": {},
       "arguments": {},
       "data": "<div class=\"ansiout\">\n\nDescriptive Statistics of  Tonnage\n{&#39;count&#39;: &#39;158&#39;, &#39;mean&#39;: &#39;71.28467088607599&#39;, &#39;stddev&#39;: &#39;37.229540025907866&#39;, &#39;min&#39;: &#39;2.329&#39;, &#39;max&#39;: &#39;220.0&#39;}\n====================================================================================================\n====================================================================================================\nHistogram of  passengers\n</div>",
       "datasetInfos": [],
       "removedWidgets": [],
       "type": "html"
      }
     },
     "output_type": "display_data"
    },
    {
     "data": {
      "text/html": [
       "<style scoped>\n",
       "  .table-result-container {\n",
       "    max-height: 300px;\n",
       "    overflow: auto;\n",
       "  }\n",
       "  table, th, td {\n",
       "    border: 1px solid black;\n",
       "    border-collapse: collapse;\n",
       "  }\n",
       "  th, td {\n",
       "    padding: 5px;\n",
       "  }\n",
       "  th {\n",
       "    text-align: left;\n",
       "  }\n",
       "</style><div class='table-result-container'><table class='table-result'><thead style='background-color: white'><tr><th>passengers</th></tr></thead><tbody><tr><td>6.94</td></tr><tr><td>6.94</td></tr><tr><td>14.86</td></tr><tr><td>29.74</td></tr><tr><td>26.42</td></tr><tr><td>20.52</td></tr><tr><td>20.52</td></tr><tr><td>20.56</td></tr><tr><td>20.52</td></tr><tr><td>37.0</td></tr><tr><td>29.74</td></tr><tr><td>14.52</td></tr><tr><td>20.52</td></tr><tr><td>20.52</td></tr><tr><td>21.24</td></tr><tr><td>29.74</td></tr><tr><td>21.24</td></tr><tr><td>20.52</td></tr><tr><td>21.24</td></tr><tr><td>20.52</td></tr><tr><td>21.24</td></tr><tr><td>27.58</td></tr><tr><td>29.74</td></tr><tr><td>27.58</td></tr><tr><td>17.7</td></tr><tr><td>20.32</td></tr><tr><td>18.9</td></tr><tr><td>20.32</td></tr><tr><td>18.82</td></tr><tr><td>20.32</td></tr><tr><td>28.5</td></tr><tr><td>20.32</td></tr><tr><td>0.94</td></tr><tr><td>13.66</td></tr><tr><td>8.08</td></tr><tr><td>21.14</td></tr><tr><td>13.02</td></tr><tr><td>14.94</td></tr><tr><td>27.2</td></tr><tr><td>27.2</td></tr><tr><td>7.76</td></tr><tr><td>21.14</td></tr><tr><td>13.44</td></tr><tr><td>38.0</td></tr><tr><td>19.28</td></tr><tr><td>10.8</td></tr><tr><td>9.4</td></tr><tr><td>17.91</td></tr><tr><td>26.2</td></tr><tr><td>20.0</td></tr><tr><td>17.5</td></tr><tr><td>17.5</td></tr><tr><td>13.8</td></tr><tr><td>21.04</td></tr><tr><td>12.64</td></tr><tr><td>12.14</td></tr><tr><td>18.48</td></tr><tr><td>7.49</td></tr><tr><td>13.2</td></tr><tr><td>12.66</td></tr><tr><td>12.66</td></tr><tr><td>12.66</td></tr><tr><td>14.4</td></tr><tr><td>14.94</td></tr><tr><td>14.4</td></tr><tr><td>18.48</td></tr><tr><td>15.66</td></tr><tr><td>39.59</td></tr><tr><td>15.6</td></tr><tr><td>12.5</td></tr><tr><td>25.5</td></tr><tr><td>17.0</td></tr><tr><td>9.52</td></tr><tr><td>15.66</td></tr><tr><td>10.52</td></tr><tr><td>22.4</td></tr><tr><td>17.48</td></tr><tr><td>23.94</td></tr><tr><td>22.44</td></tr><tr><td>10.56</td></tr><tr><td>20.02</td></tr><tr><td>21.44</td></tr><tr><td>15.04</td></tr><tr><td>19.56</td></tr><tr><td>11.5</td></tr><tr><td>20.02</td></tr><tr><td>17.48</td></tr><tr><td>6.84</td></tr><tr><td>6.84</td></tr><tr><td>6.84</td></tr><tr><td>8.26</td></tr><tr><td>19.68</td></tr><tr><td>11.78</td></tr><tr><td>18.74</td></tr><tr><td>20.16</td></tr><tr><td>18.82</td></tr><tr><td>35.74</td></tr><tr><td>26.0</td></tr><tr><td>19.74</td></tr><tr><td>31.0</td></tr><tr><td>19.5</td></tr><tr><td>26.74</td></tr><tr><td>37.82</td></tr><tr><td>27.58</td></tr><tr><td>26.0</td></tr><tr><td>19.74</td></tr><tr><td>6.86</td></tr><tr><td>15.9</td></tr><tr><td>12.0</td></tr><tr><td>26.74</td></tr><tr><td>19.5</td></tr><tr><td>26.02</td></tr><tr><td>19.5</td></tr><tr><td>6.88</td></tr><tr><td>3.94</td></tr><tr><td>7.0</td></tr><tr><td>4.9</td></tr><tr><td>3.2</td></tr><tr><td>7.0</td></tr><tr><td>31.14</td></tr><tr><td>25.01</td></tr><tr><td>20.2</td></tr><tr><td>19.5</td></tr><tr><td>31.14</td></tr><tr><td>43.7</td></tr><tr><td>19.5</td></tr><tr><td>36.34</td></tr><tr><td>25.01</td></tr><tr><td>18.0</td></tr><tr><td>43.7</td></tr><tr><td>27.44</td></tr><tr><td>31.14</td></tr><tr><td>27.44</td></tr><tr><td>31.14</td></tr><tr><td>54.0</td></tr><tr><td>25.01</td></tr><tr><td>24.35</td></tr><tr><td>25.01</td></tr><tr><td>28.52</td></tr><tr><td>20.76</td></tr><tr><td>24.35</td></tr><tr><td>31.14</td></tr><tr><td>2.08</td></tr><tr><td>2.08</td></tr><tr><td>2.08</td></tr><tr><td>2.96</td></tr><tr><td>3.82</td></tr><tr><td>3.88</td></tr><tr><td>2.96</td></tr><tr><td>0.66</td></tr><tr><td>8.0</td></tr><tr><td>14.8</td></tr><tr><td>12.87</td></tr><tr><td>0.66</td></tr><tr><td>19.6</td></tr><tr><td>1.58</td></tr><tr><td>1.67</td></tr><tr><td>3.08</td></tr></tbody></table></div>"
      ]
     },
     "metadata": {
      "application/vnd.databricks.v1+output": {
       "addedWidgets": {},
       "aggData": [],
       "aggError": "",
       "aggOverflow": false,
       "aggSchema": [],
       "aggSeriesLimitReached": false,
       "aggType": "",
       "arguments": {},
       "columnCustomDisplayInfos": {},
       "data": [
        [
         6.94
        ],
        [
         6.94
        ],
        [
         14.86
        ],
        [
         29.74
        ],
        [
         26.42
        ],
        [
         20.52
        ],
        [
         20.52
        ],
        [
         20.56
        ],
        [
         20.52
        ],
        [
         37
        ],
        [
         29.74
        ],
        [
         14.52
        ],
        [
         20.52
        ],
        [
         20.52
        ],
        [
         21.24
        ],
        [
         29.74
        ],
        [
         21.24
        ],
        [
         20.52
        ],
        [
         21.24
        ],
        [
         20.52
        ],
        [
         21.24
        ],
        [
         27.58
        ],
        [
         29.74
        ],
        [
         27.58
        ],
        [
         17.7
        ],
        [
         20.32
        ],
        [
         18.9
        ],
        [
         20.32
        ],
        [
         18.82
        ],
        [
         20.32
        ],
        [
         28.5
        ],
        [
         20.32
        ],
        [
         0.94
        ],
        [
         13.66
        ],
        [
         8.08
        ],
        [
         21.14
        ],
        [
         13.02
        ],
        [
         14.94
        ],
        [
         27.2
        ],
        [
         27.2
        ],
        [
         7.76
        ],
        [
         21.14
        ],
        [
         13.44
        ],
        [
         38
        ],
        [
         19.28
        ],
        [
         10.8
        ],
        [
         9.4
        ],
        [
         17.91
        ],
        [
         26.2
        ],
        [
         20
        ],
        [
         17.5
        ],
        [
         17.5
        ],
        [
         13.8
        ],
        [
         21.04
        ],
        [
         12.64
        ],
        [
         12.14
        ],
        [
         18.48
        ],
        [
         7.49
        ],
        [
         13.2
        ],
        [
         12.66
        ],
        [
         12.66
        ],
        [
         12.66
        ],
        [
         14.4
        ],
        [
         14.94
        ],
        [
         14.4
        ],
        [
         18.48
        ],
        [
         15.66
        ],
        [
         39.59
        ],
        [
         15.6
        ],
        [
         12.5
        ],
        [
         25.5
        ],
        [
         17
        ],
        [
         9.52
        ],
        [
         15.66
        ],
        [
         10.52
        ],
        [
         22.4
        ],
        [
         17.48
        ],
        [
         23.94
        ],
        [
         22.44
        ],
        [
         10.56
        ],
        [
         20.02
        ],
        [
         21.44
        ],
        [
         15.04
        ],
        [
         19.56
        ],
        [
         11.5
        ],
        [
         20.02
        ],
        [
         17.48
        ],
        [
         6.84
        ],
        [
         6.84
        ],
        [
         6.84
        ],
        [
         8.26
        ],
        [
         19.68
        ],
        [
         11.78
        ],
        [
         18.74
        ],
        [
         20.16
        ],
        [
         18.82
        ],
        [
         35.74
        ],
        [
         26
        ],
        [
         19.74
        ],
        [
         31
        ],
        [
         19.5
        ],
        [
         26.74
        ],
        [
         37.82
        ],
        [
         27.58
        ],
        [
         26
        ],
        [
         19.74
        ],
        [
         6.86
        ],
        [
         15.9
        ],
        [
         12
        ],
        [
         26.74
        ],
        [
         19.5
        ],
        [
         26.02
        ],
        [
         19.5
        ],
        [
         6.88
        ],
        [
         3.94
        ],
        [
         7
        ],
        [
         4.9
        ],
        [
         3.2
        ],
        [
         7
        ],
        [
         31.14
        ],
        [
         25.01
        ],
        [
         20.2
        ],
        [
         19.5
        ],
        [
         31.14
        ],
        [
         43.7
        ],
        [
         19.5
        ],
        [
         36.34
        ],
        [
         25.01
        ],
        [
         18
        ],
        [
         43.7
        ],
        [
         27.44
        ],
        [
         31.14
        ],
        [
         27.44
        ],
        [
         31.14
        ],
        [
         54
        ],
        [
         25.01
        ],
        [
         24.35
        ],
        [
         25.01
        ],
        [
         28.52
        ],
        [
         20.76
        ],
        [
         24.35
        ],
        [
         31.14
        ],
        [
         2.08
        ],
        [
         2.08
        ],
        [
         2.08
        ],
        [
         2.96
        ],
        [
         3.82
        ],
        [
         3.88
        ],
        [
         2.96
        ],
        [
         0.66
        ],
        [
         8
        ],
        [
         14.8
        ],
        [
         12.87
        ],
        [
         0.66
        ],
        [
         19.6
        ],
        [
         1.58
        ],
        [
         1.67
        ],
        [
         3.08
        ]
       ],
       "datasetInfos": [],
       "dbfsResultPath": null,
       "isJsonSchema": true,
       "overflow": false,
       "plotOptions": {
        "customPlotOptions": {},
        "displayType": "histogram",
        "pivotAggregation": null,
        "pivotColumns": null,
        "xColumns": null,
        "yColumns": null
       },
       "removedWidgets": [],
       "schema": [
        {
         "metadata": "{}",
         "name": "passengers",
         "type": "\"double\""
        }
       ],
       "type": "table"
      }
     },
     "output_type": "display_data"
    },
    {
     "data": {
      "text/html": [
       "<style scoped>\n",
       "  .ansiout {\n",
       "    display: block;\n",
       "    unicode-bidi: embed;\n",
       "    white-space: pre-wrap;\n",
       "    word-wrap: break-word;\n",
       "    word-break: break-all;\n",
       "    font-family: \"Source Code Pro\", \"Menlo\", monospace;;\n",
       "    font-size: 13px;\n",
       "    color: #555;\n",
       "    margin-left: 4px;\n",
       "    line-height: 19px;\n",
       "  }\n",
       "</style>\n",
       "<div class=\"ansiout\">\n",
       "\n",
       "Descriptive Statistics of  passengers\n",
       "{&#39;count&#39;: &#39;158&#39;, &#39;mean&#39;: &#39;18.45740506329114&#39;, &#39;stddev&#39;: &#39;9.677094775143416&#39;, &#39;min&#39;: &#39;0.66&#39;, &#39;max&#39;: &#39;54.0&#39;}\n",
       "====================================================================================================\n",
       "====================================================================================================\n",
       "Histogram of  length\n",
       "</div>"
      ]
     },
     "metadata": {
      "application/vnd.databricks.v1+output": {
       "addedWidgets": {},
       "arguments": {},
       "data": "<div class=\"ansiout\">\n\nDescriptive Statistics of  passengers\n{&#39;count&#39;: &#39;158&#39;, &#39;mean&#39;: &#39;18.45740506329114&#39;, &#39;stddev&#39;: &#39;9.677094775143416&#39;, &#39;min&#39;: &#39;0.66&#39;, &#39;max&#39;: &#39;54.0&#39;}\n====================================================================================================\n====================================================================================================\nHistogram of  length\n</div>",
       "datasetInfos": [],
       "removedWidgets": [],
       "type": "html"
      }
     },
     "output_type": "display_data"
    },
    {
     "data": {
      "text/html": [
       "<style scoped>\n",
       "  .table-result-container {\n",
       "    max-height: 300px;\n",
       "    overflow: auto;\n",
       "  }\n",
       "  table, th, td {\n",
       "    border: 1px solid black;\n",
       "    border-collapse: collapse;\n",
       "  }\n",
       "  th, td {\n",
       "    padding: 5px;\n",
       "  }\n",
       "  th {\n",
       "    text-align: left;\n",
       "  }\n",
       "</style><div class='table-result-container'><table class='table-result'><thead style='background-color: white'><tr><th>length</th></tr></thead><tbody><tr><td>5.94</td></tr><tr><td>5.94</td></tr><tr><td>7.22</td></tr><tr><td>9.53</td></tr><tr><td>8.92</td></tr><tr><td>8.55</td></tr><tr><td>8.55</td></tr><tr><td>8.55</td></tr><tr><td>8.55</td></tr><tr><td>9.51</td></tr><tr><td>9.51</td></tr><tr><td>7.27</td></tr><tr><td>8.55</td></tr><tr><td>8.55</td></tr><tr><td>9.63</td></tr><tr><td>9.51</td></tr><tr><td>9.63</td></tr><tr><td>8.55</td></tr><tr><td>9.63</td></tr><tr><td>8.55</td></tr><tr><td>9.63</td></tr><tr><td>8.93</td></tr><tr><td>9.52</td></tr><tr><td>8.93</td></tr><tr><td>8.15</td></tr><tr><td>9.65</td></tr><tr><td>8.66</td></tr><tr><td>9.65</td></tr><tr><td>8.66</td></tr><tr><td>9.65</td></tr><tr><td>10.33</td></tr><tr><td>9.65</td></tr><tr><td>2.96</td></tr><tr><td>6.82</td></tr><tr><td>6.16</td></tr><tr><td>9.57</td></tr><tr><td>7.18</td></tr><tr><td>7.98</td></tr><tr><td>8.9</td></tr><tr><td>8.9</td></tr><tr><td>6.22</td></tr><tr><td>9.6</td></tr><tr><td>7.22</td></tr><tr><td>9.51</td></tr><tr><td>8.28</td></tr><tr><td>7.9</td></tr><tr><td>7.81</td></tr><tr><td>9.63</td></tr><tr><td>11.32</td></tr><tr><td>9.64</td></tr><tr><td>9.64</td></tr><tr><td>9.64</td></tr><tr><td>7.8</td></tr><tr><td>9.36</td></tr><tr><td>7.19</td></tr><tr><td>7.04</td></tr><tr><td>9.59</td></tr><tr><td>6.74</td></tr><tr><td>7.77</td></tr><tr><td>7.19</td></tr><tr><td>7.19</td></tr><tr><td>7.19</td></tr><tr><td>7.77</td></tr><tr><td>7.98</td></tr><tr><td>7.77</td></tr><tr><td>9.51</td></tr><tr><td>8.24</td></tr><tr><td>10.93</td></tr><tr><td>8.23</td></tr><tr><td>6.69</td></tr><tr><td>9.61</td></tr><tr><td>7.63</td></tr><tr><td>5.41</td></tr><tr><td>8.23</td></tr><tr><td>6.15</td></tr><tr><td>9.65</td></tr><tr><td>7.54</td></tr><tr><td>9.65</td></tr><tr><td>9.65</td></tr><tr><td>5.67</td></tr><tr><td>8.53</td></tr><tr><td>9.21</td></tr><tr><td>7.08</td></tr><tr><td>8.79</td></tr><tr><td>6.74</td></tr><tr><td>8.53</td></tr><tr><td>7.54</td></tr><tr><td>5.94</td></tr><tr><td>5.94</td></tr><tr><td>5.94</td></tr><tr><td>5.78</td></tr><tr><td>9.35</td></tr><tr><td>7.54</td></tr><tr><td>8.86</td></tr><tr><td>8.56</td></tr><tr><td>8.53</td></tr><tr><td>9.0</td></tr><tr><td>9.51</td></tr><tr><td>9.64</td></tr><tr><td>9.51</td></tr><tr><td>8.56</td></tr><tr><td>9.51</td></tr><tr><td>9.51</td></tr><tr><td>9.51</td></tr><tr><td>9.51</td></tr><tr><td>9.64</td></tr><tr><td>5.93</td></tr><tr><td>8.03</td></tr><tr><td>7.54</td></tr><tr><td>9.51</td></tr><tr><td>8.56</td></tr><tr><td>9.51</td></tr><tr><td>8.56</td></tr><tr><td>5.93</td></tr><tr><td>4.36</td></tr><tr><td>7.09</td></tr><tr><td>5.6</td></tr><tr><td>5.13</td></tr><tr><td>6.7</td></tr><tr><td>10.2</td></tr><tr><td>9.62</td></tr><tr><td>6.92</td></tr><tr><td>9.16</td></tr><tr><td>10.2</td></tr><tr><td>11.12</td></tr><tr><td>9.16</td></tr><tr><td>11.12</td></tr><tr><td>9.62</td></tr><tr><td>8.67</td></tr><tr><td>11.25</td></tr><tr><td>8.8</td></tr><tr><td>10.2</td></tr><tr><td>8.8</td></tr><tr><td>10.2</td></tr><tr><td>11.82</td></tr><tr><td>9.62</td></tr><tr><td>9.15</td></tr><tr><td>9.62</td></tr><tr><td>8.8</td></tr><tr><td>8.67</td></tr><tr><td>9.15</td></tr><tr><td>10.2</td></tr><tr><td>4.4</td></tr><tr><td>4.4</td></tr><tr><td>4.4</td></tr><tr><td>5.14</td></tr><tr><td>5.97</td></tr><tr><td>5.97</td></tr><tr><td>5.14</td></tr><tr><td>2.8</td></tr><tr><td>5.37</td></tr><tr><td>7.13</td></tr><tr><td>5.79</td></tr><tr><td>2.79</td></tr><tr><td>8.79</td></tr><tr><td>4.4</td></tr><tr><td>4.4</td></tr><tr><td>6.17</td></tr></tbody></table></div>"
      ]
     },
     "metadata": {
      "application/vnd.databricks.v1+output": {
       "addedWidgets": {},
       "aggData": [],
       "aggError": "",
       "aggOverflow": false,
       "aggSchema": [],
       "aggSeriesLimitReached": false,
       "aggType": "",
       "arguments": {},
       "columnCustomDisplayInfos": {},
       "data": [
        [
         5.94
        ],
        [
         5.94
        ],
        [
         7.22
        ],
        [
         9.53
        ],
        [
         8.92
        ],
        [
         8.55
        ],
        [
         8.55
        ],
        [
         8.55
        ],
        [
         8.55
        ],
        [
         9.51
        ],
        [
         9.51
        ],
        [
         7.27
        ],
        [
         8.55
        ],
        [
         8.55
        ],
        [
         9.63
        ],
        [
         9.51
        ],
        [
         9.63
        ],
        [
         8.55
        ],
        [
         9.63
        ],
        [
         8.55
        ],
        [
         9.63
        ],
        [
         8.93
        ],
        [
         9.52
        ],
        [
         8.93
        ],
        [
         8.15
        ],
        [
         9.65
        ],
        [
         8.66
        ],
        [
         9.65
        ],
        [
         8.66
        ],
        [
         9.65
        ],
        [
         10.33
        ],
        [
         9.65
        ],
        [
         2.96
        ],
        [
         6.82
        ],
        [
         6.16
        ],
        [
         9.57
        ],
        [
         7.18
        ],
        [
         7.98
        ],
        [
         8.9
        ],
        [
         8.9
        ],
        [
         6.22
        ],
        [
         9.6
        ],
        [
         7.22
        ],
        [
         9.51
        ],
        [
         8.28
        ],
        [
         7.9
        ],
        [
         7.81
        ],
        [
         9.63
        ],
        [
         11.32
        ],
        [
         9.64
        ],
        [
         9.64
        ],
        [
         9.64
        ],
        [
         7.8
        ],
        [
         9.36
        ],
        [
         7.19
        ],
        [
         7.04
        ],
        [
         9.59
        ],
        [
         6.74
        ],
        [
         7.77
        ],
        [
         7.19
        ],
        [
         7.19
        ],
        [
         7.19
        ],
        [
         7.77
        ],
        [
         7.98
        ],
        [
         7.77
        ],
        [
         9.51
        ],
        [
         8.24
        ],
        [
         10.93
        ],
        [
         8.23
        ],
        [
         6.69
        ],
        [
         9.61
        ],
        [
         7.63
        ],
        [
         5.41
        ],
        [
         8.23
        ],
        [
         6.15
        ],
        [
         9.65
        ],
        [
         7.54
        ],
        [
         9.65
        ],
        [
         9.65
        ],
        [
         5.67
        ],
        [
         8.53
        ],
        [
         9.21
        ],
        [
         7.08
        ],
        [
         8.79
        ],
        [
         6.74
        ],
        [
         8.53
        ],
        [
         7.54
        ],
        [
         5.94
        ],
        [
         5.94
        ],
        [
         5.94
        ],
        [
         5.78
        ],
        [
         9.35
        ],
        [
         7.54
        ],
        [
         8.86
        ],
        [
         8.56
        ],
        [
         8.53
        ],
        [
         9
        ],
        [
         9.51
        ],
        [
         9.64
        ],
        [
         9.51
        ],
        [
         8.56
        ],
        [
         9.51
        ],
        [
         9.51
        ],
        [
         9.51
        ],
        [
         9.51
        ],
        [
         9.64
        ],
        [
         5.93
        ],
        [
         8.03
        ],
        [
         7.54
        ],
        [
         9.51
        ],
        [
         8.56
        ],
        [
         9.51
        ],
        [
         8.56
        ],
        [
         5.93
        ],
        [
         4.36
        ],
        [
         7.09
        ],
        [
         5.6
        ],
        [
         5.13
        ],
        [
         6.7
        ],
        [
         10.2
        ],
        [
         9.62
        ],
        [
         6.92
        ],
        [
         9.16
        ],
        [
         10.2
        ],
        [
         11.12
        ],
        [
         9.16
        ],
        [
         11.12
        ],
        [
         9.62
        ],
        [
         8.67
        ],
        [
         11.25
        ],
        [
         8.8
        ],
        [
         10.2
        ],
        [
         8.8
        ],
        [
         10.2
        ],
        [
         11.82
        ],
        [
         9.62
        ],
        [
         9.15
        ],
        [
         9.62
        ],
        [
         8.8
        ],
        [
         8.67
        ],
        [
         9.15
        ],
        [
         10.2
        ],
        [
         4.4
        ],
        [
         4.4
        ],
        [
         4.4
        ],
        [
         5.14
        ],
        [
         5.97
        ],
        [
         5.97
        ],
        [
         5.14
        ],
        [
         2.8
        ],
        [
         5.37
        ],
        [
         7.13
        ],
        [
         5.79
        ],
        [
         2.79
        ],
        [
         8.79
        ],
        [
         4.4
        ],
        [
         4.4
        ],
        [
         6.17
        ]
       ],
       "datasetInfos": [],
       "dbfsResultPath": null,
       "isJsonSchema": true,
       "overflow": false,
       "plotOptions": {
        "customPlotOptions": {},
        "displayType": "histogram",
        "pivotAggregation": null,
        "pivotColumns": null,
        "xColumns": null,
        "yColumns": null
       },
       "removedWidgets": [],
       "schema": [
        {
         "metadata": "{}",
         "name": "length",
         "type": "\"double\""
        }
       ],
       "type": "table"
      }
     },
     "output_type": "display_data"
    },
    {
     "data": {
      "text/html": [
       "<style scoped>\n",
       "  .ansiout {\n",
       "    display: block;\n",
       "    unicode-bidi: embed;\n",
       "    white-space: pre-wrap;\n",
       "    word-wrap: break-word;\n",
       "    word-break: break-all;\n",
       "    font-family: \"Source Code Pro\", \"Menlo\", monospace;;\n",
       "    font-size: 13px;\n",
       "    color: #555;\n",
       "    margin-left: 4px;\n",
       "    line-height: 19px;\n",
       "  }\n",
       "</style>\n",
       "<div class=\"ansiout\">\n",
       "\n",
       "Descriptive Statistics of  length\n",
       "{&#39;count&#39;: &#39;158&#39;, &#39;mean&#39;: &#39;8.130632911392404&#39;, &#39;stddev&#39;: &#39;1.793473548054825&#39;, &#39;min&#39;: &#39;2.79&#39;, &#39;max&#39;: &#39;11.82&#39;}\n",
       "====================================================================================================\n",
       "====================================================================================================\n",
       "Histogram of  cabins\n",
       "</div>"
      ]
     },
     "metadata": {
      "application/vnd.databricks.v1+output": {
       "addedWidgets": {},
       "arguments": {},
       "data": "<div class=\"ansiout\">\n\nDescriptive Statistics of  length\n{&#39;count&#39;: &#39;158&#39;, &#39;mean&#39;: &#39;8.130632911392404&#39;, &#39;stddev&#39;: &#39;1.793473548054825&#39;, &#39;min&#39;: &#39;2.79&#39;, &#39;max&#39;: &#39;11.82&#39;}\n====================================================================================================\n====================================================================================================\nHistogram of  cabins\n</div>",
       "datasetInfos": [],
       "removedWidgets": [],
       "type": "html"
      }
     },
     "output_type": "display_data"
    },
    {
     "data": {
      "text/html": [
       "<style scoped>\n",
       "  .table-result-container {\n",
       "    max-height: 300px;\n",
       "    overflow: auto;\n",
       "  }\n",
       "  table, th, td {\n",
       "    border: 1px solid black;\n",
       "    border-collapse: collapse;\n",
       "  }\n",
       "  th, td {\n",
       "    padding: 5px;\n",
       "  }\n",
       "  th {\n",
       "    text-align: left;\n",
       "  }\n",
       "</style><div class='table-result-container'><table class='table-result'><thead style='background-color: white'><tr><th>cabins</th></tr></thead><tbody><tr><td>3.55</td></tr><tr><td>3.55</td></tr><tr><td>7.43</td></tr><tr><td>14.88</td></tr><tr><td>13.21</td></tr><tr><td>10.2</td></tr><tr><td>10.2</td></tr><tr><td>10.22</td></tr><tr><td>10.2</td></tr><tr><td>14.87</td></tr><tr><td>14.87</td></tr><tr><td>7.26</td></tr><tr><td>10.2</td></tr><tr><td>10.2</td></tr><tr><td>10.62</td></tr><tr><td>14.87</td></tr><tr><td>10.62</td></tr><tr><td>10.2</td></tr><tr><td>11.62</td></tr><tr><td>10.2</td></tr><tr><td>10.56</td></tr><tr><td>13.21</td></tr><tr><td>14.87</td></tr><tr><td>13.79</td></tr><tr><td>8.75</td></tr><tr><td>9.75</td></tr><tr><td>9.35</td></tr><tr><td>9.75</td></tr><tr><td>9.35</td></tr><tr><td>9.75</td></tr><tr><td>6.87</td></tr><tr><td>9.75</td></tr><tr><td>0.45</td></tr><tr><td>6.87</td></tr><tr><td>4.1</td></tr><tr><td>10.56</td></tr><tr><td>6.54</td></tr><tr><td>7.67</td></tr><tr><td>13.56</td></tr><tr><td>13.56</td></tr><tr><td>3.86</td></tr><tr><td>10.56</td></tr><tr><td>6.78</td></tr><tr><td>15.0</td></tr><tr><td>9.64</td></tr><tr><td>5.5</td></tr><tr><td>4.8</td></tr><tr><td>9.5</td></tr><tr><td>11.34</td></tr><tr><td>10.29</td></tr><tr><td>8.75</td></tr><tr><td>8.75</td></tr><tr><td>6.88</td></tr><tr><td>10.22</td></tr><tr><td>6.32</td></tr><tr><td>6.07</td></tr><tr><td>9.24</td></tr><tr><td>3.96</td></tr><tr><td>6.6</td></tr><tr><td>6.33</td></tr><tr><td>6.33</td></tr><tr><td>6.33</td></tr><tr><td>7.2</td></tr><tr><td>7.47</td></tr><tr><td>7.2</td></tr><tr><td>9.24</td></tr><tr><td>7.83</td></tr><tr><td>16.37</td></tr><tr><td>7.65</td></tr><tr><td>5.32</td></tr><tr><td>12.75</td></tr><tr><td>8.5</td></tr><tr><td>3.83</td></tr><tr><td>7.83</td></tr><tr><td>5.26</td></tr><tr><td>11.2</td></tr><tr><td>8.74</td></tr><tr><td>11.97</td></tr><tr><td>11.22</td></tr><tr><td>5.28</td></tr><tr><td>10.01</td></tr><tr><td>10.72</td></tr><tr><td>7.52</td></tr><tr><td>9.83</td></tr><tr><td>4.0</td></tr><tr><td>10.01</td></tr><tr><td>8.74</td></tr><tr><td>3.42</td></tr><tr><td>3.42</td></tr><tr><td>3.42</td></tr><tr><td>4.25</td></tr><tr><td>9.84</td></tr><tr><td>5.3</td></tr><tr><td>9.39</td></tr><tr><td>9.75</td></tr><tr><td>9.14</td></tr><tr><td>15.32</td></tr><tr><td>13.0</td></tr><tr><td>9.87</td></tr><tr><td>15.57</td></tr><tr><td>10.5</td></tr><tr><td>13.37</td></tr><tr><td>15.57</td></tr><tr><td>13.0</td></tr><tr><td>13.0</td></tr><tr><td>9.87</td></tr><tr><td>3.44</td></tr><tr><td>7.95</td></tr><tr><td>6.0</td></tr><tr><td>13.37</td></tr><tr><td>9.75</td></tr><tr><td>13.01</td></tr><tr><td>9.75</td></tr><tr><td>3.44</td></tr><tr><td>0.88</td></tr><tr><td>3.54</td></tr><tr><td>2.45</td></tr><tr><td>1.6</td></tr><tr><td>1.82</td></tr><tr><td>15.57</td></tr><tr><td>10.5</td></tr><tr><td>8.0</td></tr><tr><td>9.75</td></tr><tr><td>15.57</td></tr><tr><td>18.0</td></tr><tr><td>9.75</td></tr><tr><td>18.17</td></tr><tr><td>10.94</td></tr><tr><td>9.0</td></tr><tr><td>18.0</td></tr><tr><td>11.75</td></tr><tr><td>15.57</td></tr><tr><td>11.77</td></tr><tr><td>15.57</td></tr><tr><td>27.0</td></tr><tr><td>10.5</td></tr><tr><td>10.0</td></tr><tr><td>10.5</td></tr><tr><td>11.38</td></tr><tr><td>9.02</td></tr><tr><td>10.0</td></tr><tr><td>15.57</td></tr><tr><td>1.04</td></tr><tr><td>1.04</td></tr><tr><td>1.04</td></tr><tr><td>1.48</td></tr><tr><td>1.94</td></tr><tr><td>1.94</td></tr><tr><td>1.48</td></tr><tr><td>0.33</td></tr><tr><td>4.0</td></tr><tr><td>7.4</td></tr><tr><td>7.76</td></tr><tr><td>0.33</td></tr><tr><td>9.67</td></tr><tr><td>0.74</td></tr><tr><td>0.74</td></tr><tr><td>1.56</td></tr></tbody></table></div>"
      ]
     },
     "metadata": {
      "application/vnd.databricks.v1+output": {
       "addedWidgets": {},
       "aggData": [],
       "aggError": "",
       "aggOverflow": false,
       "aggSchema": [],
       "aggSeriesLimitReached": false,
       "aggType": "",
       "arguments": {},
       "columnCustomDisplayInfos": {},
       "data": [
        [
         3.55
        ],
        [
         3.55
        ],
        [
         7.43
        ],
        [
         14.88
        ],
        [
         13.21
        ],
        [
         10.2
        ],
        [
         10.2
        ],
        [
         10.22
        ],
        [
         10.2
        ],
        [
         14.87
        ],
        [
         14.87
        ],
        [
         7.26
        ],
        [
         10.2
        ],
        [
         10.2
        ],
        [
         10.62
        ],
        [
         14.87
        ],
        [
         10.62
        ],
        [
         10.2
        ],
        [
         11.62
        ],
        [
         10.2
        ],
        [
         10.56
        ],
        [
         13.21
        ],
        [
         14.87
        ],
        [
         13.79
        ],
        [
         8.75
        ],
        [
         9.75
        ],
        [
         9.35
        ],
        [
         9.75
        ],
        [
         9.35
        ],
        [
         9.75
        ],
        [
         6.87
        ],
        [
         9.75
        ],
        [
         0.45
        ],
        [
         6.87
        ],
        [
         4.1
        ],
        [
         10.56
        ],
        [
         6.54
        ],
        [
         7.67
        ],
        [
         13.56
        ],
        [
         13.56
        ],
        [
         3.86
        ],
        [
         10.56
        ],
        [
         6.78
        ],
        [
         15
        ],
        [
         9.64
        ],
        [
         5.5
        ],
        [
         4.8
        ],
        [
         9.5
        ],
        [
         11.34
        ],
        [
         10.29
        ],
        [
         8.75
        ],
        [
         8.75
        ],
        [
         6.88
        ],
        [
         10.22
        ],
        [
         6.32
        ],
        [
         6.07
        ],
        [
         9.24
        ],
        [
         3.96
        ],
        [
         6.6
        ],
        [
         6.33
        ],
        [
         6.33
        ],
        [
         6.33
        ],
        [
         7.2
        ],
        [
         7.47
        ],
        [
         7.2
        ],
        [
         9.24
        ],
        [
         7.83
        ],
        [
         16.37
        ],
        [
         7.65
        ],
        [
         5.32
        ],
        [
         12.75
        ],
        [
         8.5
        ],
        [
         3.83
        ],
        [
         7.83
        ],
        [
         5.26
        ],
        [
         11.2
        ],
        [
         8.74
        ],
        [
         11.97
        ],
        [
         11.22
        ],
        [
         5.28
        ],
        [
         10.01
        ],
        [
         10.72
        ],
        [
         7.52
        ],
        [
         9.83
        ],
        [
         4
        ],
        [
         10.01
        ],
        [
         8.74
        ],
        [
         3.42
        ],
        [
         3.42
        ],
        [
         3.42
        ],
        [
         4.25
        ],
        [
         9.84
        ],
        [
         5.3
        ],
        [
         9.39
        ],
        [
         9.75
        ],
        [
         9.14
        ],
        [
         15.32
        ],
        [
         13
        ],
        [
         9.87
        ],
        [
         15.57
        ],
        [
         10.5
        ],
        [
         13.37
        ],
        [
         15.57
        ],
        [
         13
        ],
        [
         13
        ],
        [
         9.87
        ],
        [
         3.44
        ],
        [
         7.95
        ],
        [
         6
        ],
        [
         13.37
        ],
        [
         9.75
        ],
        [
         13.01
        ],
        [
         9.75
        ],
        [
         3.44
        ],
        [
         0.88
        ],
        [
         3.54
        ],
        [
         2.45
        ],
        [
         1.6
        ],
        [
         1.82
        ],
        [
         15.57
        ],
        [
         10.5
        ],
        [
         8
        ],
        [
         9.75
        ],
        [
         15.57
        ],
        [
         18
        ],
        [
         9.75
        ],
        [
         18.17
        ],
        [
         10.94
        ],
        [
         9
        ],
        [
         18
        ],
        [
         11.75
        ],
        [
         15.57
        ],
        [
         11.77
        ],
        [
         15.57
        ],
        [
         27
        ],
        [
         10.5
        ],
        [
         10
        ],
        [
         10.5
        ],
        [
         11.38
        ],
        [
         9.02
        ],
        [
         10
        ],
        [
         15.57
        ],
        [
         1.04
        ],
        [
         1.04
        ],
        [
         1.04
        ],
        [
         1.48
        ],
        [
         1.94
        ],
        [
         1.94
        ],
        [
         1.48
        ],
        [
         0.33
        ],
        [
         4
        ],
        [
         7.4
        ],
        [
         7.76
        ],
        [
         0.33
        ],
        [
         9.67
        ],
        [
         0.74
        ],
        [
         0.74
        ],
        [
         1.56
        ]
       ],
       "datasetInfos": [],
       "dbfsResultPath": null,
       "isJsonSchema": true,
       "overflow": false,
       "plotOptions": {
        "customPlotOptions": {},
        "displayType": "histogram",
        "pivotAggregation": null,
        "pivotColumns": null,
        "xColumns": null,
        "yColumns": null
       },
       "removedWidgets": [],
       "schema": [
        {
         "metadata": "{}",
         "name": "cabins",
         "type": "\"double\""
        }
       ],
       "type": "table"
      }
     },
     "output_type": "display_data"
    },
    {
     "data": {
      "text/html": [
       "<style scoped>\n",
       "  .ansiout {\n",
       "    display: block;\n",
       "    unicode-bidi: embed;\n",
       "    white-space: pre-wrap;\n",
       "    word-wrap: break-word;\n",
       "    word-break: break-all;\n",
       "    font-family: \"Source Code Pro\", \"Menlo\", monospace;;\n",
       "    font-size: 13px;\n",
       "    color: #555;\n",
       "    margin-left: 4px;\n",
       "    line-height: 19px;\n",
       "  }\n",
       "</style>\n",
       "<div class=\"ansiout\">\n",
       "\n",
       "Descriptive Statistics of  cabins\n",
       "{&#39;count&#39;: &#39;158&#39;, &#39;mean&#39;: &#39;8.830000000000005&#39;, &#39;stddev&#39;: &#39;4.4714172221480615&#39;, &#39;min&#39;: &#39;0.33&#39;, &#39;max&#39;: &#39;27.0&#39;}\n",
       "====================================================================================================\n",
       "====================================================================================================\n",
       "Histogram of  passenger_density\n",
       "</div>"
      ]
     },
     "metadata": {
      "application/vnd.databricks.v1+output": {
       "addedWidgets": {},
       "arguments": {},
       "data": "<div class=\"ansiout\">\n\nDescriptive Statistics of  cabins\n{&#39;count&#39;: &#39;158&#39;, &#39;mean&#39;: &#39;8.830000000000005&#39;, &#39;stddev&#39;: &#39;4.4714172221480615&#39;, &#39;min&#39;: &#39;0.33&#39;, &#39;max&#39;: &#39;27.0&#39;}\n====================================================================================================\n====================================================================================================\nHistogram of  passenger_density\n</div>",
       "datasetInfos": [],
       "removedWidgets": [],
       "type": "html"
      }
     },
     "output_type": "display_data"
    },
    {
     "data": {
      "text/html": [
       "<style scoped>\n",
       "  .table-result-container {\n",
       "    max-height: 300px;\n",
       "    overflow: auto;\n",
       "  }\n",
       "  table, th, td {\n",
       "    border: 1px solid black;\n",
       "    border-collapse: collapse;\n",
       "  }\n",
       "  th, td {\n",
       "    padding: 5px;\n",
       "  }\n",
       "  th {\n",
       "    text-align: left;\n",
       "  }\n",
       "</style><div class='table-result-container'><table class='table-result'><thead style='background-color: white'><tr><th>passenger_density</th></tr></thead><tbody><tr><td>42.64</td></tr><tr><td>42.64</td></tr><tr><td>31.8</td></tr><tr><td>36.99</td></tr><tr><td>38.36</td></tr><tr><td>34.29</td></tr><tr><td>34.29</td></tr><tr><td>34.23</td></tr><tr><td>34.29</td></tr><tr><td>29.79</td></tr><tr><td>36.99</td></tr><tr><td>31.72</td></tr><tr><td>34.29</td></tr><tr><td>34.29</td></tr><tr><td>40.49</td></tr><tr><td>36.99</td></tr><tr><td>41.67</td></tr><tr><td>34.29</td></tr><tr><td>41.67</td></tr><tr><td>34.29</td></tr><tr><td>41.67</td></tr><tr><td>36.81</td></tr><tr><td>36.99</td></tr><tr><td>36.81</td></tr><tr><td>39.89</td></tr><tr><td>44.78</td></tr><tr><td>41.12</td></tr><tr><td>44.78</td></tr><tr><td>41.29</td></tr><tr><td>44.78</td></tr><tr><td>34.57</td></tr><tr><td>44.78</td></tr><tr><td>24.78</td></tr><tr><td>34.57</td></tr><tr><td>35.19</td></tr><tr><td>40.5</td></tr><tr><td>40.65</td></tr><tr><td>36.06</td></tr><tr><td>38.6</td></tr><tr><td>38.6</td></tr><tr><td>32.22</td></tr><tr><td>40.68</td></tr><tr><td>39.47</td></tr><tr><td>29.47</td></tr><tr><td>38.99</td></tr><tr><td>62.96</td></tr><tr><td>54.26</td></tr><tr><td>39.27</td></tr><tr><td>57.79</td></tr><tr><td>45.0</td></tr><tr><td>47.62</td></tr><tr><td>47.43</td></tr><tr><td>44.2</td></tr><tr><td>40.87</td></tr><tr><td>43.87</td></tr><tr><td>27.94</td></tr><tr><td>44.25</td></tr><tr><td>50.73</td></tr><tr><td>45.19</td></tr><tr><td>43.8</td></tr><tr><td>43.8</td></tr><tr><td>43.8</td></tr><tr><td>43.75</td></tr><tr><td>36.06</td></tr><tr><td>43.75</td></tr><tr><td>46.0</td></tr><tr><td>37.42</td></tr><tr><td>33.72</td></tr><tr><td>37.71</td></tr><tr><td>28.11</td></tr><tr><td>35.14</td></tr><tr><td>34.74</td></tr><tr><td>17.7</td></tr><tr><td>37.42</td></tr><tr><td>32.56</td></tr><tr><td>40.18</td></tr><tr><td>29.04</td></tr><tr><td>38.85</td></tr><tr><td>40.55</td></tr><tr><td>35.98</td></tr><tr><td>38.51</td></tr><tr><td>37.78</td></tr><tr><td>27.93</td></tr><tr><td>38.52</td></tr><tr><td>24.35</td></tr><tr><td>38.51</td></tr><tr><td>29.04</td></tr><tr><td>44.26</td></tr><tr><td>44.26</td></tr><tr><td>44.26</td></tr><tr><td>26.73</td></tr><tr><td>43.19</td></tr><tr><td>38.2</td></tr><tr><td>40.55</td></tr><tr><td>38.19</td></tr><tr><td>36.74</td></tr><tr><td>32.18</td></tr><tr><td>44.62</td></tr><tr><td>46.42</td></tr><tr><td>37.42</td></tr><tr><td>39.74</td></tr><tr><td>42.26</td></tr><tr><td>29.88</td></tr><tr><td>39.47</td></tr><tr><td>41.85</td></tr><tr><td>46.42</td></tr><tr><td>44.14</td></tr><tr><td>43.93</td></tr><tr><td>36.96</td></tr><tr><td>42.26</td></tr><tr><td>39.74</td></tr><tr><td>41.88</td></tr><tr><td>39.74</td></tr><tr><td>44.01</td></tr><tr><td>31.73</td></tr><tr><td>71.43</td></tr><tr><td>67.35</td></tr><tr><td>60.0</td></tr><tr><td>65.71</td></tr><tr><td>44.32</td></tr><tr><td>36.02</td></tr><tr><td>24.04</td></tr><tr><td>38.02</td></tr><tr><td>44.32</td></tr><tr><td>36.16</td></tr><tr><td>38.02</td></tr><tr><td>44.03</td></tr><tr><td>36.02</td></tr><tr><td>38.89</td></tr><tr><td>36.16</td></tr><tr><td>26.95</td></tr><tr><td>44.32</td></tr><tr><td>30.94</td></tr><tr><td>44.32</td></tr><tr><td>40.74</td></tr><tr><td>36.02</td></tr><tr><td>32.23</td></tr><tr><td>36.02</td></tr><tr><td>25.66</td></tr><tr><td>33.72</td></tr><tr><td>32.23</td></tr><tr><td>44.32</td></tr><tr><td>48.08</td></tr><tr><td>48.08</td></tr><tr><td>48.08</td></tr><tr><td>56.76</td></tr><tr><td>65.45</td></tr><tr><td>64.43</td></tr><tr><td>56.76</td></tr><tr><td>50.62</td></tr><tr><td>23.87</td></tr><tr><td>28.38</td></tr><tr><td>31.12</td></tr><tr><td>50.62</td></tr><tr><td>39.18</td></tr><tr><td>33.86</td></tr><tr><td>32.04</td></tr><tr><td>47.87</td></tr></tbody></table></div>"
      ]
     },
     "metadata": {
      "application/vnd.databricks.v1+output": {
       "addedWidgets": {},
       "aggData": [],
       "aggError": "",
       "aggOverflow": false,
       "aggSchema": [],
       "aggSeriesLimitReached": false,
       "aggType": "",
       "arguments": {},
       "columnCustomDisplayInfos": {},
       "data": [
        [
         42.64
        ],
        [
         42.64
        ],
        [
         31.8
        ],
        [
         36.99
        ],
        [
         38.36
        ],
        [
         34.29
        ],
        [
         34.29
        ],
        [
         34.23
        ],
        [
         34.29
        ],
        [
         29.79
        ],
        [
         36.99
        ],
        [
         31.72
        ],
        [
         34.29
        ],
        [
         34.29
        ],
        [
         40.49
        ],
        [
         36.99
        ],
        [
         41.67
        ],
        [
         34.29
        ],
        [
         41.67
        ],
        [
         34.29
        ],
        [
         41.67
        ],
        [
         36.81
        ],
        [
         36.99
        ],
        [
         36.81
        ],
        [
         39.89
        ],
        [
         44.78
        ],
        [
         41.12
        ],
        [
         44.78
        ],
        [
         41.29
        ],
        [
         44.78
        ],
        [
         34.57
        ],
        [
         44.78
        ],
        [
         24.78
        ],
        [
         34.57
        ],
        [
         35.19
        ],
        [
         40.5
        ],
        [
         40.65
        ],
        [
         36.06
        ],
        [
         38.6
        ],
        [
         38.6
        ],
        [
         32.22
        ],
        [
         40.68
        ],
        [
         39.47
        ],
        [
         29.47
        ],
        [
         38.99
        ],
        [
         62.96
        ],
        [
         54.26
        ],
        [
         39.27
        ],
        [
         57.79
        ],
        [
         45
        ],
        [
         47.62
        ],
        [
         47.43
        ],
        [
         44.2
        ],
        [
         40.87
        ],
        [
         43.87
        ],
        [
         27.94
        ],
        [
         44.25
        ],
        [
         50.73
        ],
        [
         45.19
        ],
        [
         43.8
        ],
        [
         43.8
        ],
        [
         43.8
        ],
        [
         43.75
        ],
        [
         36.06
        ],
        [
         43.75
        ],
        [
         46
        ],
        [
         37.42
        ],
        [
         33.72
        ],
        [
         37.71
        ],
        [
         28.11
        ],
        [
         35.14
        ],
        [
         34.74
        ],
        [
         17.7
        ],
        [
         37.42
        ],
        [
         32.56
        ],
        [
         40.18
        ],
        [
         29.04
        ],
        [
         38.85
        ],
        [
         40.55
        ],
        [
         35.98
        ],
        [
         38.51
        ],
        [
         37.78
        ],
        [
         27.93
        ],
        [
         38.52
        ],
        [
         24.35
        ],
        [
         38.51
        ],
        [
         29.04
        ],
        [
         44.26
        ],
        [
         44.26
        ],
        [
         44.26
        ],
        [
         26.73
        ],
        [
         43.19
        ],
        [
         38.2
        ],
        [
         40.55
        ],
        [
         38.19
        ],
        [
         36.74
        ],
        [
         32.18
        ],
        [
         44.62
        ],
        [
         46.42
        ],
        [
         37.42
        ],
        [
         39.74
        ],
        [
         42.26
        ],
        [
         29.88
        ],
        [
         39.47
        ],
        [
         41.85
        ],
        [
         46.42
        ],
        [
         44.14
        ],
        [
         43.93
        ],
        [
         36.96
        ],
        [
         42.26
        ],
        [
         39.74
        ],
        [
         41.88
        ],
        [
         39.74
        ],
        [
         44.01
        ],
        [
         31.73
        ],
        [
         71.43
        ],
        [
         67.35
        ],
        [
         60
        ],
        [
         65.71
        ],
        [
         44.32
        ],
        [
         36.02
        ],
        [
         24.04
        ],
        [
         38.02
        ],
        [
         44.32
        ],
        [
         36.16
        ],
        [
         38.02
        ],
        [
         44.03
        ],
        [
         36.02
        ],
        [
         38.89
        ],
        [
         36.16
        ],
        [
         26.95
        ],
        [
         44.32
        ],
        [
         30.94
        ],
        [
         44.32
        ],
        [
         40.74
        ],
        [
         36.02
        ],
        [
         32.23
        ],
        [
         36.02
        ],
        [
         25.66
        ],
        [
         33.72
        ],
        [
         32.23
        ],
        [
         44.32
        ],
        [
         48.08
        ],
        [
         48.08
        ],
        [
         48.08
        ],
        [
         56.76
        ],
        [
         65.45
        ],
        [
         64.43
        ],
        [
         56.76
        ],
        [
         50.62
        ],
        [
         23.87
        ],
        [
         28.38
        ],
        [
         31.12
        ],
        [
         50.62
        ],
        [
         39.18
        ],
        [
         33.86
        ],
        [
         32.04
        ],
        [
         47.87
        ]
       ],
       "datasetInfos": [],
       "dbfsResultPath": null,
       "isJsonSchema": true,
       "overflow": false,
       "plotOptions": {
        "customPlotOptions": {},
        "displayType": "histogram",
        "pivotAggregation": null,
        "pivotColumns": null,
        "xColumns": null,
        "yColumns": null
       },
       "removedWidgets": [],
       "schema": [
        {
         "metadata": "{}",
         "name": "passenger_density",
         "type": "\"double\""
        }
       ],
       "type": "table"
      }
     },
     "output_type": "display_data"
    },
    {
     "data": {
      "text/html": [
       "<style scoped>\n",
       "  .ansiout {\n",
       "    display: block;\n",
       "    unicode-bidi: embed;\n",
       "    white-space: pre-wrap;\n",
       "    word-wrap: break-word;\n",
       "    word-break: break-all;\n",
       "    font-family: \"Source Code Pro\", \"Menlo\", monospace;;\n",
       "    font-size: 13px;\n",
       "    color: #555;\n",
       "    margin-left: 4px;\n",
       "    line-height: 19px;\n",
       "  }\n",
       "</style>\n",
       "<div class=\"ansiout\">\n",
       "\n",
       "Descriptive Statistics of  passenger_density\n",
       "{&#39;count&#39;: &#39;158&#39;, &#39;mean&#39;: &#39;39.90094936708861&#39;, &#39;stddev&#39;: &#39;8.63921711391542&#39;, &#39;min&#39;: &#39;17.7&#39;, &#39;max&#39;: &#39;71.43&#39;}\n",
       "====================================================================================================\n",
       "====================================================================================================\n",
       "Histogram of  crew\n",
       "</div>"
      ]
     },
     "metadata": {
      "application/vnd.databricks.v1+output": {
       "addedWidgets": {},
       "arguments": {},
       "data": "<div class=\"ansiout\">\n\nDescriptive Statistics of  passenger_density\n{&#39;count&#39;: &#39;158&#39;, &#39;mean&#39;: &#39;39.90094936708861&#39;, &#39;stddev&#39;: &#39;8.63921711391542&#39;, &#39;min&#39;: &#39;17.7&#39;, &#39;max&#39;: &#39;71.43&#39;}\n====================================================================================================\n====================================================================================================\nHistogram of  crew\n</div>",
       "datasetInfos": [],
       "removedWidgets": [],
       "type": "html"
      }
     },
     "output_type": "display_data"
    },
    {
     "data": {
      "text/html": [
       "<style scoped>\n",
       "  .table-result-container {\n",
       "    max-height: 300px;\n",
       "    overflow: auto;\n",
       "  }\n",
       "  table, th, td {\n",
       "    border: 1px solid black;\n",
       "    border-collapse: collapse;\n",
       "  }\n",
       "  th, td {\n",
       "    padding: 5px;\n",
       "  }\n",
       "  th {\n",
       "    text-align: left;\n",
       "  }\n",
       "</style><div class='table-result-container'><table class='table-result'><thead style='background-color: white'><tr><th>crew</th></tr></thead><tbody><tr><td>3.55</td></tr><tr><td>3.55</td></tr><tr><td>6.7</td></tr><tr><td>19.1</td></tr><tr><td>10.0</td></tr><tr><td>9.2</td></tr><tr><td>9.2</td></tr><tr><td>9.2</td></tr><tr><td>9.2</td></tr><tr><td>11.5</td></tr><tr><td>11.6</td></tr><tr><td>6.6</td></tr><tr><td>9.2</td></tr><tr><td>9.2</td></tr><tr><td>9.3</td></tr><tr><td>11.6</td></tr><tr><td>10.3</td></tr><tr><td>9.2</td></tr><tr><td>9.3</td></tr><tr><td>9.2</td></tr><tr><td>10.29</td></tr><tr><td>10.0</td></tr><tr><td>11.6</td></tr><tr><td>11.5</td></tr><tr><td>8.58</td></tr><tr><td>9.99</td></tr><tr><td>9.09</td></tr><tr><td>9.99</td></tr><tr><td>9.09</td></tr><tr><td>9.99</td></tr><tr><td>6.7</td></tr><tr><td>9.99</td></tr><tr><td>0.6</td></tr><tr><td>6.7</td></tr><tr><td>4.0</td></tr><tr><td>9.2</td></tr><tr><td>6.17</td></tr><tr><td>6.36</td></tr><tr><td>10.68</td></tr><tr><td>10.68</td></tr><tr><td>3.85</td></tr><tr><td>9.2</td></tr><tr><td>6.0</td></tr><tr><td>10.9</td></tr><tr><td>7.66</td></tr><tr><td>6.36</td></tr><tr><td>5.45</td></tr><tr><td>9.21</td></tr><tr><td>12.53</td></tr><tr><td>9.0</td></tr><tr><td>9.45</td></tr><tr><td>9.45</td></tr><tr><td>6.0</td></tr><tr><td>8.0</td></tr><tr><td>5.57</td></tr><tr><td>5.3</td></tr><tr><td>8.42</td></tr><tr><td>4.6</td></tr><tr><td>6.44</td></tr><tr><td>5.88</td></tr><tr><td>5.88</td></tr><tr><td>5.88</td></tr><tr><td>5.61</td></tr><tr><td>6.12</td></tr><tr><td>5.31</td></tr><tr><td>8.0</td></tr><tr><td>7.0</td></tr><tr><td>13.13</td></tr><tr><td>7.0</td></tr><tr><td>5.35</td></tr><tr><td>9.87</td></tr><tr><td>7.4</td></tr><tr><td>2.97</td></tr><tr><td>7.6</td></tr><tr><td>4.7</td></tr><tr><td>11.0</td></tr><tr><td>6.14</td></tr><tr><td>11.09</td></tr><tr><td>11.0</td></tr><tr><td>4.38</td></tr><tr><td>8.0</td></tr><tr><td>10.0</td></tr><tr><td>6.3</td></tr><tr><td>13.0</td></tr><tr><td>3.8</td></tr><tr><td>9.59</td></tr><tr><td>6.14</td></tr><tr><td>4.0</td></tr><tr><td>4.0</td></tr><tr><td>4.0</td></tr><tr><td>3.5</td></tr><tr><td>8.69</td></tr><tr><td>5.2</td></tr><tr><td>8.5</td></tr><tr><td>9.0</td></tr><tr><td>7.94</td></tr><tr><td>12.2</td></tr><tr><td>11.0</td></tr><tr><td>9.0</td></tr><tr><td>12.0</td></tr><tr><td>9.0</td></tr><tr><td>12.38</td></tr><tr><td>12.0</td></tr><tr><td>11.0</td></tr><tr><td>11.1</td></tr><tr><td>9.0</td></tr><tr><td>3.73</td></tr><tr><td>6.96</td></tr><tr><td>5.2</td></tr><tr><td>12.38</td></tr><tr><td>9.0</td></tr><tr><td>12.0</td></tr><tr><td>9.0</td></tr><tr><td>3.73</td></tr><tr><td>1.46</td></tr><tr><td>4.45</td></tr><tr><td>3.24</td></tr><tr><td>2.11</td></tr><tr><td>4.47</td></tr><tr><td>11.85</td></tr><tr><td>8.48</td></tr><tr><td>6.71</td></tr><tr><td>7.6</td></tr><tr><td>11.76</td></tr><tr><td>13.6</td></tr><tr><td>7.6</td></tr><tr><td>13.6</td></tr><tr><td>8.69</td></tr><tr><td>7.2</td></tr><tr><td>13.6</td></tr><tr><td>8.22</td></tr><tr><td>11.85</td></tr><tr><td>8.22</td></tr><tr><td>11.85</td></tr><tr><td>21.0</td></tr><tr><td>8.68</td></tr><tr><td>7.65</td></tr><tr><td>8.58</td></tr><tr><td>8.08</td></tr><tr><td>7.2</td></tr><tr><td>6.6</td></tr><tr><td>11.76</td></tr><tr><td>1.6</td></tr><tr><td>1.6</td></tr><tr><td>1.6</td></tr><tr><td>2.1</td></tr><tr><td>2.95</td></tr><tr><td>2.87</td></tr><tr><td>1.97</td></tr><tr><td>0.59</td></tr><tr><td>4.7</td></tr><tr><td>6.8</td></tr><tr><td>7.5</td></tr><tr><td>0.59</td></tr><tr><td>12.0</td></tr><tr><td>0.88</td></tr><tr><td>0.88</td></tr><tr><td>1.8</td></tr></tbody></table></div>"
      ]
     },
     "metadata": {
      "application/vnd.databricks.v1+output": {
       "addedWidgets": {},
       "aggData": [],
       "aggError": "",
       "aggOverflow": false,
       "aggSchema": [],
       "aggSeriesLimitReached": false,
       "aggType": "",
       "arguments": {},
       "columnCustomDisplayInfos": {},
       "data": [
        [
         3.55
        ],
        [
         3.55
        ],
        [
         6.7
        ],
        [
         19.1
        ],
        [
         10
        ],
        [
         9.2
        ],
        [
         9.2
        ],
        [
         9.2
        ],
        [
         9.2
        ],
        [
         11.5
        ],
        [
         11.6
        ],
        [
         6.6
        ],
        [
         9.2
        ],
        [
         9.2
        ],
        [
         9.3
        ],
        [
         11.6
        ],
        [
         10.3
        ],
        [
         9.2
        ],
        [
         9.3
        ],
        [
         9.2
        ],
        [
         10.29
        ],
        [
         10
        ],
        [
         11.6
        ],
        [
         11.5
        ],
        [
         8.58
        ],
        [
         9.99
        ],
        [
         9.09
        ],
        [
         9.99
        ],
        [
         9.09
        ],
        [
         9.99
        ],
        [
         6.7
        ],
        [
         9.99
        ],
        [
         0.6
        ],
        [
         6.7
        ],
        [
         4
        ],
        [
         9.2
        ],
        [
         6.17
        ],
        [
         6.36
        ],
        [
         10.68
        ],
        [
         10.68
        ],
        [
         3.85
        ],
        [
         9.2
        ],
        [
         6
        ],
        [
         10.9
        ],
        [
         7.66
        ],
        [
         6.36
        ],
        [
         5.45
        ],
        [
         9.21
        ],
        [
         12.53
        ],
        [
         9
        ],
        [
         9.45
        ],
        [
         9.45
        ],
        [
         6
        ],
        [
         8
        ],
        [
         5.57
        ],
        [
         5.3
        ],
        [
         8.42
        ],
        [
         4.6
        ],
        [
         6.44
        ],
        [
         5.88
        ],
        [
         5.88
        ],
        [
         5.88
        ],
        [
         5.61
        ],
        [
         6.12
        ],
        [
         5.31
        ],
        [
         8
        ],
        [
         7
        ],
        [
         13.13
        ],
        [
         7
        ],
        [
         5.35
        ],
        [
         9.87
        ],
        [
         7.4
        ],
        [
         2.97
        ],
        [
         7.6
        ],
        [
         4.7
        ],
        [
         11
        ],
        [
         6.14
        ],
        [
         11.09
        ],
        [
         11
        ],
        [
         4.38
        ],
        [
         8
        ],
        [
         10
        ],
        [
         6.3
        ],
        [
         13
        ],
        [
         3.8
        ],
        [
         9.59
        ],
        [
         6.14
        ],
        [
         4
        ],
        [
         4
        ],
        [
         4
        ],
        [
         3.5
        ],
        [
         8.69
        ],
        [
         5.2
        ],
        [
         8.5
        ],
        [
         9
        ],
        [
         7.94
        ],
        [
         12.2
        ],
        [
         11
        ],
        [
         9
        ],
        [
         12
        ],
        [
         9
        ],
        [
         12.38
        ],
        [
         12
        ],
        [
         11
        ],
        [
         11.1
        ],
        [
         9
        ],
        [
         3.73
        ],
        [
         6.96
        ],
        [
         5.2
        ],
        [
         12.38
        ],
        [
         9
        ],
        [
         12
        ],
        [
         9
        ],
        [
         3.73
        ],
        [
         1.46
        ],
        [
         4.45
        ],
        [
         3.24
        ],
        [
         2.11
        ],
        [
         4.47
        ],
        [
         11.85
        ],
        [
         8.48
        ],
        [
         6.71
        ],
        [
         7.6
        ],
        [
         11.76
        ],
        [
         13.6
        ],
        [
         7.6
        ],
        [
         13.6
        ],
        [
         8.69
        ],
        [
         7.2
        ],
        [
         13.6
        ],
        [
         8.22
        ],
        [
         11.85
        ],
        [
         8.22
        ],
        [
         11.85
        ],
        [
         21
        ],
        [
         8.68
        ],
        [
         7.65
        ],
        [
         8.58
        ],
        [
         8.08
        ],
        [
         7.2
        ],
        [
         6.6
        ],
        [
         11.76
        ],
        [
         1.6
        ],
        [
         1.6
        ],
        [
         1.6
        ],
        [
         2.1
        ],
        [
         2.95
        ],
        [
         2.87
        ],
        [
         1.97
        ],
        [
         0.59
        ],
        [
         4.7
        ],
        [
         6.8
        ],
        [
         7.5
        ],
        [
         0.59
        ],
        [
         12
        ],
        [
         0.88
        ],
        [
         0.88
        ],
        [
         1.8
        ]
       ],
       "datasetInfos": [],
       "dbfsResultPath": null,
       "isJsonSchema": true,
       "overflow": false,
       "plotOptions": {
        "customPlotOptions": {},
        "displayType": "histogram",
        "pivotAggregation": null,
        "pivotColumns": null,
        "xColumns": null,
        "yColumns": null
       },
       "removedWidgets": [],
       "schema": [
        {
         "metadata": "{}",
         "name": "crew",
         "type": "\"double\""
        }
       ],
       "type": "table"
      }
     },
     "output_type": "display_data"
    },
    {
     "data": {
      "text/html": [
       "<style scoped>\n",
       "  .ansiout {\n",
       "    display: block;\n",
       "    unicode-bidi: embed;\n",
       "    white-space: pre-wrap;\n",
       "    word-wrap: break-word;\n",
       "    word-break: break-all;\n",
       "    font-family: \"Source Code Pro\", \"Menlo\", monospace;;\n",
       "    font-size: 13px;\n",
       "    color: #555;\n",
       "    margin-left: 4px;\n",
       "    line-height: 19px;\n",
       "  }\n",
       "</style>\n",
       "<div class=\"ansiout\">\n",
       "\n",
       "Descriptive Statistics of  crew\n",
       "{&#39;count&#39;: &#39;158&#39;, &#39;mean&#39;: &#39;7.794177215189873&#39;, &#39;stddev&#39;: &#39;3.503486564627034&#39;, &#39;min&#39;: &#39;0.59&#39;, &#39;max&#39;: &#39;21.0&#39;}\n",
       "====================================================================================================\n",
       "</div>"
      ]
     },
     "metadata": {
      "application/vnd.databricks.v1+output": {
       "addedWidgets": {},
       "arguments": {},
       "data": "<div class=\"ansiout\">\n\nDescriptive Statistics of  crew\n{&#39;count&#39;: &#39;158&#39;, &#39;mean&#39;: &#39;7.794177215189873&#39;, &#39;stddev&#39;: &#39;3.503486564627034&#39;, &#39;min&#39;: &#39;0.59&#39;, &#39;max&#39;: &#39;21.0&#39;}\n====================================================================================================\n</div>",
       "datasetInfos": [],
       "removedWidgets": [],
       "type": "html"
      }
     },
     "output_type": "display_data"
    }
   ],
   "source": [
    "for i in df.columns[2:]:\n",
    "  print(\"=\"*100)\n",
    "  print(\"Histogram of \", i)\n",
    "  display(df.select(i))\n",
    "  print(\"\\n\")\n",
    "  print(\"Descriptive Statistics of \", i)\n",
    "  print(dict(df.select(i).describe().collect()))\n",
    "  print(\"=\"*100)\n",
    "  "
   ]
  },
  {
   "cell_type": "code",
   "execution_count": 0,
   "metadata": {
    "application/vnd.databricks.v1+cell": {
     "inputWidgets": {},
     "nuid": "6ed418c2-828a-4cfe-a238-91809d5111fa",
     "showTitle": false,
     "title": ""
    }
   },
   "outputs": [
    {
     "data": {
      "text/html": [
       "<style scoped>\n",
       "  .ansiout {\n",
       "    display: block;\n",
       "    unicode-bidi: embed;\n",
       "    white-space: pre-wrap;\n",
       "    word-wrap: break-word;\n",
       "    word-break: break-all;\n",
       "    font-family: \"Source Code Pro\", \"Menlo\", monospace;;\n",
       "    font-size: 13px;\n",
       "    color: #555;\n",
       "    margin-left: 4px;\n",
       "    line-height: 19px;\n",
       "  }\n",
       "</style>\n",
       "<div class=\"ansiout\"></div>"
      ]
     },
     "metadata": {
      "application/vnd.databricks.v1+output": {
       "addedWidgets": {},
       "arguments": {},
       "data": "<div class=\"ansiout\"></div>",
       "datasetInfos": [],
       "removedWidgets": [],
       "type": "html"
      }
     },
     "output_type": "display_data"
    }
   ],
   "source": [
    "# Since cruise line is categorical nominal I'm one hot encoding it\n",
    "from pyspark.ml.feature import (StringIndexer, OneHotEncoder, VectorAssembler)"
   ]
  },
  {
   "cell_type": "code",
   "execution_count": 0,
   "metadata": {
    "application/vnd.databricks.v1+cell": {
     "inputWidgets": {},
     "nuid": "d577a747-e75d-407f-9fd3-92e20973a9d5",
     "showTitle": false,
     "title": ""
    }
   },
   "outputs": [
    {
     "data": {
      "text/html": [
       "<style scoped>\n",
       "  .ansiout {\n",
       "    display: block;\n",
       "    unicode-bidi: embed;\n",
       "    white-space: pre-wrap;\n",
       "    word-wrap: break-word;\n",
       "    word-break: break-all;\n",
       "    font-family: \"Source Code Pro\", \"Menlo\", monospace;;\n",
       "    font-size: 13px;\n",
       "    color: #555;\n",
       "    margin-left: 4px;\n",
       "    line-height: 19px;\n",
       "  }\n",
       "</style>\n",
       "<div class=\"ansiout\"></div>"
      ]
     },
     "metadata": {
      "application/vnd.databricks.v1+output": {
       "addedWidgets": {},
       "arguments": {},
       "data": "<div class=\"ansiout\"></div>",
       "datasetInfos": [],
       "removedWidgets": [],
       "type": "html"
      }
     },
     "output_type": "display_data"
    }
   ],
   "source": [
    "# Instansiating the string indexer\n",
    "Sindexer = StringIndexer(inputCol= 'Cruise_line', outputCol= 'cru_indexed')\n",
    "\n",
    "# Fitting the string indexer\n",
    "Sindxed_df = Sindexer.fit(df).transform(df)\n",
    "\n",
    "# Instansiating the Onehotencoder\n",
    "Onehencoder = OneHotEncoder(inputCol= 'cru_indexed', outputCol= 'One_hot_cruz')\n",
    "\n",
    "# Fitting the Onehotencoder\n",
    "Onehencodered_df = Onehencoder.fit(Sindxed_df).transform(Sindxed_df)"
   ]
  },
  {
   "cell_type": "code",
   "execution_count": 0,
   "metadata": {
    "application/vnd.databricks.v1+cell": {
     "inputWidgets": {},
     "nuid": "971a5683-e0ad-4aac-8eea-4f69a2574259",
     "showTitle": false,
     "title": ""
    }
   },
   "outputs": [
    {
     "data": {
      "text/html": [
       "<style scoped>\n",
       "  .ansiout {\n",
       "    display: block;\n",
       "    unicode-bidi: embed;\n",
       "    white-space: pre-wrap;\n",
       "    word-wrap: break-word;\n",
       "    word-break: break-all;\n",
       "    font-family: \"Source Code Pro\", \"Menlo\", monospace;;\n",
       "    font-size: 13px;\n",
       "    color: #555;\n",
       "    margin-left: 4px;\n",
       "    line-height: 19px;\n",
       "  }\n",
       "</style>\n",
       "<div class=\"ansiout\">Out[16]: [&#39;Ship_name&#39;,\n",
       " &#39;Cruise_line&#39;,\n",
       " &#39;Age&#39;,\n",
       " &#39;Tonnage&#39;,\n",
       " &#39;passengers&#39;,\n",
       " &#39;length&#39;,\n",
       " &#39;cabins&#39;,\n",
       " &#39;passenger_density&#39;,\n",
       " &#39;crew&#39;,\n",
       " &#39;cru_indexed&#39;,\n",
       " &#39;One_hot_cruz&#39;]</div>"
      ]
     },
     "metadata": {
      "application/vnd.databricks.v1+output": {
       "addedWidgets": {},
       "arguments": {},
       "data": "<div class=\"ansiout\">Out[16]: [&#39;Ship_name&#39;,\n &#39;Cruise_line&#39;,\n &#39;Age&#39;,\n &#39;Tonnage&#39;,\n &#39;passengers&#39;,\n &#39;length&#39;,\n &#39;cabins&#39;,\n &#39;passenger_density&#39;,\n &#39;crew&#39;,\n &#39;cru_indexed&#39;,\n &#39;One_hot_cruz&#39;]</div>",
       "datasetInfos": [],
       "removedWidgets": [],
       "type": "html"
      }
     },
     "output_type": "display_data"
    }
   ],
   "source": [
    "Onehencodered_df.columns"
   ]
  },
  {
   "cell_type": "code",
   "execution_count": 0,
   "metadata": {
    "application/vnd.databricks.v1+cell": {
     "inputWidgets": {},
     "nuid": "d573541c-77f6-49eb-a5ca-2fc65af53e3c",
     "showTitle": false,
     "title": ""
    }
   },
   "outputs": [
    {
     "data": {
      "text/html": [
       "<style scoped>\n",
       "  .ansiout {\n",
       "    display: block;\n",
       "    unicode-bidi: embed;\n",
       "    white-space: pre-wrap;\n",
       "    word-wrap: break-word;\n",
       "    word-break: break-all;\n",
       "    font-family: \"Source Code Pro\", \"Menlo\", monospace;;\n",
       "    font-size: 13px;\n",
       "    color: #555;\n",
       "    margin-left: 4px;\n",
       "    line-height: 19px;\n",
       "  }\n",
       "</style>\n",
       "<div class=\"ansiout\"></div>"
      ]
     },
     "metadata": {
      "application/vnd.databricks.v1+output": {
       "addedWidgets": {},
       "arguments": {},
       "data": "<div class=\"ansiout\"></div>",
       "datasetInfos": [],
       "removedWidgets": [],
       "type": "html"
      }
     },
     "output_type": "display_data"
    }
   ],
   "source": [
    "# Invoking and implementing vector assembler\n",
    "vc = VectorAssembler(inputCols= ['Age',\n",
    " 'Tonnage',\n",
    " 'passengers',\n",
    " 'length',\n",
    " 'cabins',\n",
    " 'passenger_density',\n",
    " 'One_hot_cruz'], outputCol= 'Features')\n",
    "op_Df = vc.transform(Onehencodered_df)"
   ]
  },
  {
   "cell_type": "code",
   "execution_count": 0,
   "metadata": {
    "application/vnd.databricks.v1+cell": {
     "inputWidgets": {},
     "nuid": "4cd146c9-9a4b-4f34-a9ae-0f0b7329e346",
     "showTitle": false,
     "title": ""
    }
   },
   "outputs": [
    {
     "data": {
      "text/html": [
       "<style scoped>\n",
       "  .ansiout {\n",
       "    display: block;\n",
       "    unicode-bidi: embed;\n",
       "    white-space: pre-wrap;\n",
       "    word-wrap: break-word;\n",
       "    word-break: break-all;\n",
       "    font-family: \"Source Code Pro\", \"Menlo\", monospace;;\n",
       "    font-size: 13px;\n",
       "    color: #555;\n",
       "    margin-left: 4px;\n",
       "    line-height: 19px;\n",
       "  }\n",
       "</style>\n",
       "<div class=\"ansiout\"></div>"
      ]
     },
     "metadata": {
      "application/vnd.databricks.v1+output": {
       "addedWidgets": {},
       "arguments": {},
       "data": "<div class=\"ansiout\"></div>",
       "datasetInfos": [],
       "removedWidgets": [],
       "type": "html"
      }
     },
     "output_type": "display_data"
    }
   ],
   "source": [
    "# Creating the final dataset\n",
    "f_df = op_Df.select('Features','crew')"
   ]
  },
  {
   "cell_type": "code",
   "execution_count": 0,
   "metadata": {
    "application/vnd.databricks.v1+cell": {
     "inputWidgets": {},
     "nuid": "4ce95481-8248-429a-a60f-02ff07ad0ab9",
     "showTitle": false,
     "title": ""
    }
   },
   "outputs": [
    {
     "data": {
      "text/html": [
       "<style scoped>\n",
       "  .ansiout {\n",
       "    display: block;\n",
       "    unicode-bidi: embed;\n",
       "    white-space: pre-wrap;\n",
       "    word-wrap: break-word;\n",
       "    word-break: break-all;\n",
       "    font-family: \"Source Code Pro\", \"Menlo\", monospace;;\n",
       "    font-size: 13px;\n",
       "    color: #555;\n",
       "    margin-left: 4px;\n",
       "    line-height: 19px;\n",
       "  }\n",
       "</style>\n",
       "<div class=\"ansiout\"></div>"
      ]
     },
     "metadata": {
      "application/vnd.databricks.v1+output": {
       "addedWidgets": {},
       "arguments": {},
       "data": "<div class=\"ansiout\"></div>",
       "datasetInfos": [],
       "removedWidgets": [],
       "type": "html"
      }
     },
     "output_type": "display_data"
    }
   ],
   "source": [
    "# Train test split\n",
    "train, test = f_df.randomSplit([0.7,0.3])"
   ]
  },
  {
   "cell_type": "code",
   "execution_count": 0,
   "metadata": {
    "application/vnd.databricks.v1+cell": {
     "inputWidgets": {},
     "nuid": "bb04b59d-2c19-46dc-b266-577d570b9118",
     "showTitle": false,
     "title": ""
    }
   },
   "outputs": [
    {
     "data": {
      "text/html": [
       "<style scoped>\n",
       "  .ansiout {\n",
       "    display: block;\n",
       "    unicode-bidi: embed;\n",
       "    white-space: pre-wrap;\n",
       "    word-wrap: break-word;\n",
       "    word-break: break-all;\n",
       "    font-family: \"Source Code Pro\", \"Menlo\", monospace;;\n",
       "    font-size: 13px;\n",
       "    color: #555;\n",
       "    margin-left: 4px;\n",
       "    line-height: 19px;\n",
       "  }\n",
       "</style>\n",
       "<div class=\"ansiout\"></div>"
      ]
     },
     "metadata": {
      "application/vnd.databricks.v1+output": {
       "addedWidgets": {},
       "arguments": {},
       "data": "<div class=\"ansiout\"></div>",
       "datasetInfos": [],
       "removedWidgets": [],
       "type": "html"
      }
     },
     "output_type": "display_data"
    }
   ],
   "source": [
    "# Invaoking the leniar Regression Model\n",
    "from pyspark.ml.regression import LinearRegression\n",
    "lr_model = LinearRegression(featuresCol= 'Features', labelCol='crew')\n",
    "\n",
    "# Training the model\n",
    "lr_model_trained = lr_model.fit(train)\n",
    "\n",
    "# Model Evaluation\n",
    "test_results = lr_model_trained.evaluate(test)\n",
    "\n",
    "# Model Results\n",
    "lr_model_preds = lr_model_trained.transform(test)"
   ]
  },
  {
   "cell_type": "code",
   "execution_count": 0,
   "metadata": {
    "application/vnd.databricks.v1+cell": {
     "inputWidgets": {},
     "nuid": "93e204c9-e4a7-4031-a94a-c619a7f3c666",
     "showTitle": false,
     "title": ""
    }
   },
   "outputs": [
    {
     "data": {
      "text/html": [
       "<style scoped>\n",
       "  .ansiout {\n",
       "    display: block;\n",
       "    unicode-bidi: embed;\n",
       "    white-space: pre-wrap;\n",
       "    word-wrap: break-word;\n",
       "    word-break: break-all;\n",
       "    font-family: \"Source Code Pro\", \"Menlo\", monospace;;\n",
       "    font-size: 13px;\n",
       "    color: #555;\n",
       "    margin-left: 4px;\n",
       "    line-height: 19px;\n",
       "  }\n",
       "</style>\n",
       "<div class=\"ansiout\">RMSE of the lr_model is 0.6065396155957066\n",
       "Mean of the lr_model is 7.345319148936168\n",
       "Std of the lr_model is 3.1489762664022214\n",
       "r2 of the lr_model is 0.9620929843274901\n",
       "Adjusted r2 of the lr_model is 0.9169655847173593\n",
       "</div>"
      ]
     },
     "metadata": {
      "application/vnd.databricks.v1+output": {
       "addedWidgets": {},
       "arguments": {},
       "data": "<div class=\"ansiout\">RMSE of the lr_model is 0.6065396155957066\nMean of the lr_model is 7.345319148936168\nStd of the lr_model is 3.1489762664022214\nr2 of the lr_model is 0.9620929843274901\nAdjusted r2 of the lr_model is 0.9169655847173593\n</div>",
       "datasetInfos": [],
       "removedWidgets": [],
       "type": "html"
      }
     },
     "output_type": "display_data"
    }
   ],
   "source": [
    "# Evaluating the model\n",
    "\n",
    "from pyspark.sql.functions import avg, stddev\n",
    "print(\"RMSE of the lr_model is\", test_results.rootMeanSquaredError)\n",
    "print(\"Mean of the lr_model is\", test.select(avg('crew')).collect()[0][0])\n",
    "print(\"Std of the lr_model is\", test.select(stddev('crew')).collect()[0][0])\n",
    "print(\"r2 of the lr_model is\", test_results.r2)\n",
    "print(\"Adjusted r2 of the lr_model is\", test_results.r2adj)"
   ]
  },
  {
   "cell_type": "code",
   "execution_count": 0,
   "metadata": {
    "application/vnd.databricks.v1+cell": {
     "inputWidgets": {},
     "nuid": "9e3509bc-613d-42a8-80da-45fd782f27f7",
     "showTitle": false,
     "title": ""
    }
   },
   "outputs": [
    {
     "data": {
      "text/html": [
       "<style scoped>\n",
       "  .ansiout {\n",
       "    display: block;\n",
       "    unicode-bidi: embed;\n",
       "    white-space: pre-wrap;\n",
       "    word-wrap: break-word;\n",
       "    word-break: break-all;\n",
       "    font-family: \"Source Code Pro\", \"Menlo\", monospace;;\n",
       "    font-size: 13px;\n",
       "    color: #555;\n",
       "    margin-left: 4px;\n",
       "    line-height: 19px;\n",
       "  }\n",
       "</style>\n",
       "<div class=\"ansiout\">==========================Visualizing the Model Results==================================\n",
       "</div>"
      ]
     },
     "metadata": {
      "application/vnd.databricks.v1+output": {
       "addedWidgets": {},
       "arguments": {},
       "data": "<div class=\"ansiout\">==========================Visualizing the Model Results==================================\n</div>",
       "datasetInfos": [],
       "removedWidgets": [],
       "type": "html"
      }
     },
     "output_type": "display_data"
    },
    {
     "data": {
      "text/html": [
       "<style scoped>\n",
       "  .table-result-container {\n",
       "    max-height: 300px;\n",
       "    overflow: auto;\n",
       "  }\n",
       "  table, th, td {\n",
       "    border: 1px solid black;\n",
       "    border-collapse: collapse;\n",
       "  }\n",
       "  th, td {\n",
       "    padding: 5px;\n",
       "  }\n",
       "  th {\n",
       "    text-align: left;\n",
       "  }\n",
       "</style><div class='table-result-container'><table class='table-result'><thead style='background-color: white'><tr><th>crew</th><th>prediction</th></tr></thead><tbody><tr><td>8.58</td><td>8.10547241116974</td></tr><tr><td>11.85</td><td>12.337260715137406</td></tr><tr><td>8.48</td><td>8.118217420926504</td></tr><tr><td>11.76</td><td>12.375495744407695</td></tr><tr><td>7.65</td><td>7.444063114077119</td></tr><tr><td>7.2</td><td>6.742494874776758</td></tr><tr><td>8.22</td><td>8.293976572879094</td></tr><tr><td>11.6</td><td>12.72419104082519</td></tr><tr><td>9.3</td><td>10.987430218571856</td></tr><tr><td>9.2</td><td>9.154090060787972</td></tr><tr><td>9.2</td><td>9.179580080301498</td></tr><tr><td>6.6</td><td>6.70252910253579</td></tr><tr><td>12.0</td><td>12.731383977491074</td></tr><tr><td>12.38</td><td>11.520088632212767</td></tr><tr><td>9.0</td><td>9.42768127841403</td></tr><tr><td>12.0</td><td>11.291310168830186</td></tr><tr><td>3.73</td><td>3.1479712578271783</td></tr><tr><td>11.1</td><td>11.334315679549402</td></tr><tr><td>9.0</td><td>8.654277733486662</td></tr><tr><td>8.0</td><td>8.41266916622469</td></tr><tr><td>6.44</td><td>5.767863416587282</td></tr><tr><td>5.88</td><td>5.288637257723259</td></tr><tr><td>5.57</td><td>5.29632185501171</td></tr><tr><td>5.3</td><td>4.806127131647907</td></tr><tr><td>10.0</td><td>10.234224637236647</td></tr><tr><td>8.0</td><td>9.50327565147573</td></tr><tr><td>4.38</td><td>4.951385144051484</td></tr><tr><td>6.14</td><td>7.963032658973436</td></tr><tr><td>6.0</td><td>5.671115872531125</td></tr><tr><td>3.85</td><td>3.139097942361376</td></tr><tr><td>0.6</td><td>0.05806262080191793</td></tr><tr><td>9.99</td><td>9.909288772347463</td></tr><tr><td>9.09</td><td>9.10249946008297</td></tr><tr><td>7.4</td><td>7.099567044710122</td></tr><tr><td>7.0</td><td>6.941030851518889</td></tr><tr><td>2.97</td><td>2.830250059678362</td></tr><tr><td>12.2</td><td>11.636494616099851</td></tr><tr><td>8.69</td><td>9.087756744599329</td></tr><tr><td>9.0</td><td>8.425455527734151</td></tr><tr><td>7.94</td><td>8.075263469785218</td></tr><tr><td>2.11</td><td>2.6051648275800954</td></tr><tr><td>1.46</td><td>1.432194337518327</td></tr><tr><td>2.95</td><td>2.889769569186628</td></tr><tr><td>1.97</td><td>2.1062051915288684</td></tr><tr><td>4.0</td><td>4.025490019513526</td></tr><tr><td>4.0</td><td>4.025490019513526</td></tr><tr><td>5.45</td><td>5.747288084180383</td></tr></tbody></table></div>"
      ]
     },
     "metadata": {
      "application/vnd.databricks.v1+output": {
       "addedWidgets": {},
       "aggData": [],
       "aggError": "",
       "aggOverflow": false,
       "aggSchema": [],
       "aggSeriesLimitReached": false,
       "aggType": "",
       "arguments": {},
       "columnCustomDisplayInfos": {},
       "data": [
        [
         8.58,
         8.10547241116974
        ],
        [
         11.85,
         12.337260715137406
        ],
        [
         8.48,
         8.118217420926504
        ],
        [
         11.76,
         12.375495744407695
        ],
        [
         7.65,
         7.444063114077119
        ],
        [
         7.2,
         6.742494874776758
        ],
        [
         8.22,
         8.293976572879094
        ],
        [
         11.6,
         12.72419104082519
        ],
        [
         9.3,
         10.987430218571856
        ],
        [
         9.2,
         9.154090060787972
        ],
        [
         9.2,
         9.179580080301498
        ],
        [
         6.6,
         6.70252910253579
        ],
        [
         12,
         12.731383977491074
        ],
        [
         12.38,
         11.520088632212767
        ],
        [
         9,
         9.42768127841403
        ],
        [
         12,
         11.291310168830186
        ],
        [
         3.73,
         3.1479712578271783
        ],
        [
         11.1,
         11.334315679549402
        ],
        [
         9,
         8.654277733486662
        ],
        [
         8,
         8.41266916622469
        ],
        [
         6.44,
         5.767863416587282
        ],
        [
         5.88,
         5.288637257723259
        ],
        [
         5.57,
         5.29632185501171
        ],
        [
         5.3,
         4.806127131647907
        ],
        [
         10,
         10.234224637236647
        ],
        [
         8,
         9.50327565147573
        ],
        [
         4.38,
         4.951385144051484
        ],
        [
         6.14,
         7.963032658973436
        ],
        [
         6,
         5.671115872531125
        ],
        [
         3.85,
         3.139097942361376
        ],
        [
         0.6,
         0.05806262080191793
        ],
        [
         9.99,
         9.909288772347463
        ],
        [
         9.09,
         9.10249946008297
        ],
        [
         7.4,
         7.099567044710122
        ],
        [
         7,
         6.941030851518889
        ],
        [
         2.97,
         2.830250059678362
        ],
        [
         12.2,
         11.636494616099851
        ],
        [
         8.69,
         9.087756744599329
        ],
        [
         9,
         8.425455527734151
        ],
        [
         7.94,
         8.075263469785218
        ],
        [
         2.11,
         2.6051648275800954
        ],
        [
         1.46,
         1.432194337518327
        ],
        [
         2.95,
         2.889769569186628
        ],
        [
         1.97,
         2.1062051915288684
        ],
        [
         4,
         4.025490019513526
        ],
        [
         4,
         4.025490019513526
        ],
        [
         5.45,
         5.747288084180383
        ]
       ],
       "datasetInfos": [],
       "dbfsResultPath": null,
       "isJsonSchema": true,
       "overflow": false,
       "plotOptions": {
        "customPlotOptions": {
         "mgLine": [
          {
           "key": "param",
           "value": "{\"top\":20,\"bottom\":50,\"area\":false,\"missing_is_hidden\":true,\"legend_target\":\".dummy\",\"animate_on_load\":false,\"transition_on_update\":false}"
          }
         ],
         "plotlyBar": [
          {
           "key": "grouped",
           "value": true
          },
          {
           "key": "stacked",
           "value": false
          },
          {
           "key": "100_stacked",
           "value": false
          }
         ],
         "plotlyLine": [
          {
           "key": "yRange",
           "value": ""
          },
          {
           "key": "showPoints",
           "value": false
          },
          {
           "key": "logScale",
           "value": false
          }
         ],
         "quantilePlot": [],
         "scatterPlot": [
          {
           "key": "loess",
           "value": true
          },
          {
           "key": "bandwidth",
           "value": "0.99"
          }
         ]
        },
        "displayType": "scatterPlot",
        "pivotAggregation": "avg",
        "pivotColumns": [],
        "xColumns": [],
        "yColumns": [
         "prediction",
         "crew"
        ]
       },
       "removedWidgets": [],
       "schema": [
        {
         "metadata": "{}",
         "name": "crew",
         "type": "\"double\""
        },
        {
         "metadata": "{\"ml_attr\":{}}",
         "name": "prediction",
         "type": "\"double\""
        }
       ],
       "type": "table"
      }
     },
     "output_type": "display_data"
    }
   ],
   "source": [
    "# Visualizing the Model Results\n",
    "print(\"==========================Visualizing the Model Results==================================\")\n",
    "display(lr_model_preds.select('crew','prediction'))"
   ]
  },
  {
   "cell_type": "code",
   "execution_count": 0,
   "metadata": {
    "application/vnd.databricks.v1+cell": {
     "inputWidgets": {},
     "nuid": "faafdd5d-acfc-4bfd-b97e-e50a82c606ed",
     "showTitle": false,
     "title": ""
    }
   },
   "outputs": [
    {
     "data": {
      "text/html": [
       "<style scoped>\n",
       "  .ansiout {\n",
       "    display: block;\n",
       "    unicode-bidi: embed;\n",
       "    white-space: pre-wrap;\n",
       "    word-wrap: break-word;\n",
       "    word-break: break-all;\n",
       "    font-family: \"Source Code Pro\", \"Menlo\", monospace;;\n",
       "    font-size: 13px;\n",
       "    color: #555;\n",
       "    margin-left: 4px;\n",
       "    line-height: 19px;\n",
       "  }\n",
       "</style>"
      ]
     },
     "metadata": {
      "application/vnd.databricks.v1+output": {
       "arguments": {},
       "data": "",
       "errorSummary": "",
       "type": "ipynbError"
      }
     },
     "output_type": "display_data"
    }
   ],
   "source": []
  }
 ],
 "metadata": {
  "application/vnd.databricks.v1+notebook": {
   "dashboards": [],
   "language": "python",
   "notebookName": "Linear Regression Consulting Project",
   "notebookOrigID": 538998700402656,
   "widgets": {}
  },
  "kernelspec": {
   "display_name": "Python 3",
   "language": "python",
   "name": "python3"
  },
  "language_info": {
   "codemirror_mode": {
    "name": "ipython",
    "version": 3
   },
   "file_extension": ".py",
   "mimetype": "text/x-python",
   "name": "python",
   "nbconvert_exporter": "python",
   "pygments_lexer": "ipython3",
   "version": "3.7.3"
  }
 },
 "nbformat": 4,
 "nbformat_minor": 1
}
